{
 "cells": [
  {
   "cell_type": "code",
   "execution_count": 5,
   "metadata": {},
   "outputs": [
    {
     "data": {
      "text/plain": [
       "<Figure size 640x480 with 1 Axes>"
      ]
     },
     "metadata": {},
     "output_type": "display_data"
    },
    {
     "data": {
      "text/plain": [
       "<Figure size 640x480 with 1 Axes>"
      ]
     },
     "metadata": {},
     "output_type": "display_data"
    },
    {
     "data": {
      "text/plain": [
       "<Figure size 640x480 with 1 Axes>"
      ]
     },
     "metadata": {},
     "output_type": "display_data"
    },
    {
     "data": {
      "text/plain": [
       "<Figure size 640x480 with 1 Axes>"
      ]
     },
     "metadata": {},
     "output_type": "display_data"
    },
    {
     "data": {
      "text/plain": [
       "<Figure size 640x480 with 1 Axes>"
      ]
     },
     "metadata": {},
     "output_type": "display_data"
    },
    {
     "data": {
      "text/plain": [
       "<Figure size 640x480 with 1 Axes>"
      ]
     },
     "metadata": {},
     "output_type": "display_data"
    },
    {
     "data": {
      "text/plain": [
       "<Figure size 640x480 with 1 Axes>"
      ]
     },
     "metadata": {},
     "output_type": "display_data"
    },
    {
     "data": {
      "text/plain": [
       "<Figure size 640x480 with 1 Axes>"
      ]
     },
     "metadata": {},
     "output_type": "display_data"
    },
    {
     "data": {
      "text/plain": [
       "<Figure size 640x480 with 1 Axes>"
      ]
     },
     "metadata": {},
     "output_type": "display_data"
    },
    {
     "data": {
      "text/plain": [
       "<Figure size 640x480 with 1 Axes>"
      ]
     },
     "metadata": {},
     "output_type": "display_data"
    },
    {
     "data": {
      "text/plain": [
       "<Figure size 640x480 with 1 Axes>"
      ]
     },
     "metadata": {},
     "output_type": "display_data"
    },
    {
     "data": {
      "text/plain": [
       "<Figure size 640x480 with 1 Axes>"
      ]
     },
     "metadata": {},
     "output_type": "display_data"
    },
    {
     "data": {
      "text/plain": [
       "<Figure size 640x480 with 1 Axes>"
      ]
     },
     "metadata": {},
     "output_type": "display_data"
    },
    {
     "data": {
      "text/plain": [
       "<Figure size 640x480 with 1 Axes>"
      ]
     },
     "metadata": {},
     "output_type": "display_data"
    },
    {
     "data": {
      "text/plain": [
       "<Figure size 640x480 with 1 Axes>"
      ]
     },
     "metadata": {},
     "output_type": "display_data"
    },
    {
     "data": {
      "text/plain": [
       "<Figure size 640x480 with 1 Axes>"
      ]
     },
     "metadata": {},
     "output_type": "display_data"
    },
    {
     "data": {
      "text/plain": [
       "<Figure size 640x480 with 1 Axes>"
      ]
     },
     "metadata": {},
     "output_type": "display_data"
    },
    {
     "data": {
      "text/plain": [
       "<Figure size 640x480 with 1 Axes>"
      ]
     },
     "metadata": {},
     "output_type": "display_data"
    },
    {
     "data": {
      "text/plain": [
       "<Figure size 640x480 with 1 Axes>"
      ]
     },
     "metadata": {},
     "output_type": "display_data"
    },
    {
     "data": {
      "text/plain": [
       "<Figure size 640x480 with 1 Axes>"
      ]
     },
     "metadata": {},
     "output_type": "display_data"
    },
    {
     "data": {
      "text/plain": [
       "<Figure size 640x480 with 1 Axes>"
      ]
     },
     "metadata": {},
     "output_type": "display_data"
    },
    {
     "data": {
      "text/plain": [
       "<Figure size 640x480 with 1 Axes>"
      ]
     },
     "metadata": {},
     "output_type": "display_data"
    },
    {
     "data": {
      "text/plain": [
       "<Figure size 640x480 with 1 Axes>"
      ]
     },
     "metadata": {},
     "output_type": "display_data"
    },
    {
     "data": {
      "text/plain": [
       "<Figure size 640x480 with 1 Axes>"
      ]
     },
     "metadata": {},
     "output_type": "display_data"
    },
    {
     "data": {
      "text/plain": [
       "<Figure size 640x480 with 1 Axes>"
      ]
     },
     "metadata": {},
     "output_type": "display_data"
    },
    {
     "data": {
      "text/plain": [
       "<Figure size 640x480 with 1 Axes>"
      ]
     },
     "metadata": {},
     "output_type": "display_data"
    },
    {
     "data": {
      "text/plain": [
       "<Figure size 640x480 with 1 Axes>"
      ]
     },
     "metadata": {},
     "output_type": "display_data"
    },
    {
     "data": {
      "text/plain": [
       "<Figure size 640x480 with 1 Axes>"
      ]
     },
     "metadata": {},
     "output_type": "display_data"
    },
    {
     "data": {
      "text/plain": [
       "<Figure size 640x480 with 1 Axes>"
      ]
     },
     "metadata": {},
     "output_type": "display_data"
    },
    {
     "data": {
      "text/plain": [
       "<Figure size 640x480 with 1 Axes>"
      ]
     },
     "metadata": {},
     "output_type": "display_data"
    },
    {
     "data": {
      "text/plain": [
       "<Figure size 640x480 with 1 Axes>"
      ]
     },
     "metadata": {},
     "output_type": "display_data"
    },
    {
     "data": {
      "text/plain": [
       "<Figure size 640x480 with 1 Axes>"
      ]
     },
     "metadata": {},
     "output_type": "display_data"
    },
    {
     "data": {
      "text/plain": [
       "<Figure size 640x480 with 1 Axes>"
      ]
     },
     "metadata": {},
     "output_type": "display_data"
    },
    {
     "data": {
      "text/plain": [
       "<Figure size 640x480 with 1 Axes>"
      ]
     },
     "metadata": {},
     "output_type": "display_data"
    },
    {
     "data": {
      "text/plain": [
       "<Figure size 640x480 with 1 Axes>"
      ]
     },
     "metadata": {},
     "output_type": "display_data"
    },
    {
     "data": {
      "text/plain": [
       "<Figure size 640x480 with 1 Axes>"
      ]
     },
     "metadata": {},
     "output_type": "display_data"
    },
    {
     "data": {
      "text/plain": [
       "<Figure size 640x480 with 1 Axes>"
      ]
     },
     "metadata": {},
     "output_type": "display_data"
    },
    {
     "data": {
      "text/plain": [
       "<Figure size 640x480 with 1 Axes>"
      ]
     },
     "metadata": {},
     "output_type": "display_data"
    },
    {
     "data": {
      "text/plain": [
       "<Figure size 640x480 with 1 Axes>"
      ]
     },
     "metadata": {},
     "output_type": "display_data"
    },
    {
     "data": {
      "text/plain": [
       "<Figure size 640x480 with 1 Axes>"
      ]
     },
     "metadata": {},
     "output_type": "display_data"
    },
    {
     "data": {
      "text/plain": [
       "<Figure size 640x480 with 1 Axes>"
      ]
     },
     "metadata": {},
     "output_type": "display_data"
    },
    {
     "data": {
      "text/plain": [
       "<Figure size 640x480 with 1 Axes>"
      ]
     },
     "metadata": {},
     "output_type": "display_data"
    },
    {
     "data": {
      "text/plain": [
       "<Figure size 640x480 with 1 Axes>"
      ]
     },
     "metadata": {},
     "output_type": "display_data"
    },
    {
     "data": {
      "text/plain": [
       "<Figure size 640x480 with 1 Axes>"
      ]
     },
     "metadata": {},
     "output_type": "display_data"
    },
    {
     "data": {
      "text/plain": [
       "<Figure size 640x480 with 1 Axes>"
      ]
     },
     "metadata": {},
     "output_type": "display_data"
    },
    {
     "data": {
      "text/plain": [
       "<Figure size 640x480 with 1 Axes>"
      ]
     },
     "metadata": {},
     "output_type": "display_data"
    },
    {
     "data": {
      "text/plain": [
       "<Figure size 640x480 with 1 Axes>"
      ]
     },
     "metadata": {},
     "output_type": "display_data"
    },
    {
     "data": {
      "text/plain": [
       "<Figure size 640x480 with 1 Axes>"
      ]
     },
     "metadata": {},
     "output_type": "display_data"
    },
    {
     "data": {
      "text/plain": [
       "<Figure size 640x480 with 1 Axes>"
      ]
     },
     "metadata": {},
     "output_type": "display_data"
    },
    {
     "data": {
      "text/plain": [
       "<Figure size 640x480 with 1 Axes>"
      ]
     },
     "metadata": {},
     "output_type": "display_data"
    },
    {
     "data": {
      "text/plain": [
       "<Figure size 640x480 with 1 Axes>"
      ]
     },
     "metadata": {},
     "output_type": "display_data"
    },
    {
     "data": {
      "text/plain": [
       "<Figure size 640x480 with 1 Axes>"
      ]
     },
     "metadata": {},
     "output_type": "display_data"
    },
    {
     "data": {
      "text/plain": [
       "<Figure size 640x480 with 1 Axes>"
      ]
     },
     "metadata": {},
     "output_type": "display_data"
    },
    {
     "data": {
      "text/plain": [
       "<Figure size 640x480 with 1 Axes>"
      ]
     },
     "metadata": {},
     "output_type": "display_data"
    },
    {
     "data": {
      "text/plain": [
       "<Figure size 640x480 with 1 Axes>"
      ]
     },
     "metadata": {},
     "output_type": "display_data"
    },
    {
     "data": {
      "text/plain": [
       "<Figure size 640x480 with 1 Axes>"
      ]
     },
     "metadata": {},
     "output_type": "display_data"
    },
    {
     "data": {
      "text/plain": [
       "<Figure size 640x480 with 1 Axes>"
      ]
     },
     "metadata": {},
     "output_type": "display_data"
    },
    {
     "data": {
      "text/plain": [
       "<Figure size 640x480 with 1 Axes>"
      ]
     },
     "metadata": {},
     "output_type": "display_data"
    },
    {
     "data": {
      "text/plain": [
       "<Figure size 640x480 with 1 Axes>"
      ]
     },
     "metadata": {},
     "output_type": "display_data"
    },
    {
     "data": {
      "text/plain": [
       "<Figure size 640x480 with 1 Axes>"
      ]
     },
     "metadata": {},
     "output_type": "display_data"
    },
    {
     "data": {
      "text/plain": [
       "<Figure size 640x480 with 1 Axes>"
      ]
     },
     "metadata": {},
     "output_type": "display_data"
    },
    {
     "data": {
      "text/plain": [
       "<Figure size 640x480 with 1 Axes>"
      ]
     },
     "metadata": {},
     "output_type": "display_data"
    }
   ],
   "source": [
    "import numpy as np\n",
    "import matplotlib.pyplot as plt\n",
    "import os\n",
    "import cv2\n",
    "from tqdm import tqdm\n",
    "\n",
    "DATADIR = \"C:/Users/GRENTOR/Documents/imp py scr/datasets\"\n",
    "\n",
    "CATEGORIES = [\"Mosquitoes-Species-Anopheles\", \"Mosquito-Species-Aedes\" ]\n",
    "\n",
    "for category in CATEGORIES:  \n",
    "    path = os.path.join(DATADIR,category)  \n",
    "    for img in os.listdir(path):  \n",
    "        img_array = cv2.imread(os.path.join(path,img) ,cv2.IMREAD_GRAYSCALE)  # convert to array\n",
    "        plt.imshow(img_array, cmap='gray')  # graph it\n",
    "        plt.show() "
   ]
  },
  {
   "cell_type": "code",
   "execution_count": 9,
   "metadata": {},
   "outputs": [
    {
     "name": "stdout",
     "output_type": "stream",
     "text": [
      "C:\\Users\\GRENTOR\n"
     ]
    }
   ],
   "source": [
    "cd \n"
   ]
  },
  {
   "cell_type": "code",
   "execution_count": 6,
   "metadata": {},
   "outputs": [
    {
     "name": "stdout",
     "output_type": "stream",
     "text": [
      "C:\\Users\\GRENTOR\\Documents\\imp py scr\\datasets\\Mosquitoes-Species-Anopheles\n"
     ]
    }
   ],
   "source": [
    "cd C:\\Users\\GRENTOR\\Documents\\imp py scr\\datasets\\Mosquitoes-Species-Anopheles"
   ]
  },
  {
   "cell_type": "code",
   "execution_count": 6,
   "metadata": {},
   "outputs": [
    {
     "name": "stdout",
     "output_type": "stream",
     "text": [
      "[[174 174 175 ... 187 186 185]\n",
      " [175 175 175 ... 184 183 183]\n",
      " [177 176 176 ... 182 182 182]\n",
      " ...\n",
      " [163 182 191 ... 175 176 177]\n",
      " [165 168 179 ... 175 176 176]\n",
      " [164 158 167 ... 171 171 172]]\n"
     ]
    }
   ],
   "source": [
    "print(img_array)"
   ]
  },
  {
   "cell_type": "code",
   "execution_count": 7,
   "metadata": {},
   "outputs": [
    {
     "name": "stdout",
     "output_type": "stream",
     "text": [
      "(200, 300)\n"
     ]
    }
   ],
   "source": [
    "print(img_array.shape)"
   ]
  },
  {
   "cell_type": "code",
   "execution_count": 8,
   "metadata": {},
   "outputs": [
    {
     "data": {
      "image/png": "[encoded data removed]",
      "text/plain": [
       "<Figure size 432x288 with 1 Axes>"
      ]
     },
     "metadata": {
      "needs_background": "light"
     },
     "output_type": "display_data"
    }
   ],
   "source": [
    "IMG_SIZE =70\n",
    "\n",
    "new_array = cv2.resize(img_array, (IMG_SIZE, IMG_SIZE))\n",
    "plt.imshow(new_array, cmap='gray')\n",
    "plt.show()"
   ]
  },
  {
   "cell_type": "code",
   "execution_count": 9,
   "metadata": {},
   "outputs": [
    {
     "data": {
      "image/png": "[encoded data removed]",
      "text/plain": [
       "<Figure size 432x288 with 1 Axes>"
      ]
     },
     "metadata": {
      "needs_background": "light"
     },
     "output_type": "display_data"
    }
   ],
   "source": [
    "new_array = cv2.resize(img_array, (IMG_SIZE, IMG_SIZE))\n",
    "plt.imshow(new_array, cmap='gray')\n",
    "plt.show()"
   ]
  },
  {
   "cell_type": "code",
   "execution_count": 10,
   "metadata": {},
   "outputs": [
    {
     "name": "stderr",
     "output_type": "stream",
     "text": [
      "100%|█████████████████████████████████████████████████████████████████████████████████| 18/18 [00:00<00:00, 131.79it/s]\n",
      "100%|█████████████████████████████████████████████████████████████████████████████████| 44/44 [00:00<00:00, 115.16it/s]\n"
     ]
    },
    {
     "name": "stdout",
     "output_type": "stream",
     "text": [
      "62\n"
     ]
    }
   ],
   "source": [
    "training_data = []\n",
    "\n",
    "def create_training_data():\n",
    "    for category in CATEGORIES:  # do dogs and cats\n",
    "\n",
    "        path = os.path.join(DATADIR,category)  # create path to dogs and cats\n",
    "        class_num = CATEGORIES.index(category)  # get the classification  (0 or a 1). 0=dog 1=cat\n",
    "\n",
    "        for img in tqdm(os.listdir(path)):  # iterate over each image per dogs and cats\n",
    "            try:\n",
    "                img_array = cv2.imread(os.path.join(path,img) ,cv2.IMREAD_GRAYSCALE)  # convert to array\n",
    "                new_array = cv2.resize(img_array, (IMG_SIZE, IMG_SIZE))  # resize to normalize data size\n",
    "                training_data.append([new_array, class_num])  # add this to our training_data\n",
    "            except Exception as e:  # in the interest in keeping the output clean...\n",
    "                pass\n",
    "            #except OSError as e:\n",
    "            #    print(\"OSErrroBad img most likely\", e, os.path.join(path,img))\n",
    "            #except Exception as e:\n",
    "            #    print(\"general exception\", e, os.path.join(path,img))\n",
    "\n",
    "create_training_data()\n",
    "\n",
    "print(len(training_data))"
   ]
  },
  {
   "cell_type": "code",
   "execution_count": 11,
   "metadata": {},
   "outputs": [],
   "source": [
    "import random\n",
    "\n",
    "random.shuffle(training_data)"
   ]
  },
  {
   "cell_type": "code",
   "execution_count": 12,
   "metadata": {},
   "outputs": [
    {
     "name": "stdout",
     "output_type": "stream",
     "text": [
      "0\n",
      "1\n",
      "0\n",
      "1\n",
      "1\n",
      "0\n",
      "1\n",
      "1\n",
      "0\n",
      "0\n"
     ]
    }
   ],
   "source": [
    "for sample in training_data[:10]:\n",
    "    print(sample[1])"
   ]
  },
  {
   "cell_type": "code",
   "execution_count": 13,
   "metadata": {},
   "outputs": [
    {
     "name": "stdout",
     "output_type": "stream",
     "text": [
      "[[[[ 50]\n",
      "   [ 46]\n",
      "   [ 49]\n",
      "   ...\n",
      "   [ 56]\n",
      "   [ 55]\n",
      "   [ 53]]\n",
      "\n",
      "  [[ 51]\n",
      "   [ 48]\n",
      "   [ 49]\n",
      "   ...\n",
      "   [ 57]\n",
      "   [ 57]\n",
      "   [ 54]]\n",
      "\n",
      "  [[ 51]\n",
      "   [ 48]\n",
      "   [ 45]\n",
      "   ...\n",
      "   [ 58]\n",
      "   [ 57]\n",
      "   [ 56]]\n",
      "\n",
      "  ...\n",
      "\n",
      "  [[163]\n",
      "   [162]\n",
      "   [164]\n",
      "   ...\n",
      "   [148]\n",
      "   [143]\n",
      "   [143]]\n",
      "\n",
      "  [[162]\n",
      "   [160]\n",
      "   [164]\n",
      "   ...\n",
      "   [149]\n",
      "   [145]\n",
      "   [139]]\n",
      "\n",
      "  [[156]\n",
      "   [151]\n",
      "   [158]\n",
      "   ...\n",
      "   [147]\n",
      "   [152]\n",
      "   [152]]]]\n"
     ]
    }
   ],
   "source": [
    "X = []\n",
    "y = []\n",
    "\n",
    "for features,label in training_data:\n",
    "    X.append(features)\n",
    "    y.append(label)\n",
    "\n",
    "print(X[0].reshape(-1, IMG_SIZE, IMG_SIZE, 1))\n",
    "\n",
    "X = np.array(X).reshape(-1, IMG_SIZE, IMG_SIZE, 1)"
   ]
  },
  {
   "cell_type": "code",
   "execution_count": 14,
   "metadata": {},
   "outputs": [],
   "source": [
    "import pickle\n",
    "\n",
    "pickle_out = open(\"X.pickle\",\"wb\")\n",
    "pickle.dump(X, pickle_out)\n",
    "pickle_out.close()\n",
    "\n",
    "pickle_out = open(\"y.pickle\",\"wb\")\n",
    "pickle.dump(y, pickle_out)\n",
    "pickle_out.close()"
   ]
  },
  {
   "cell_type": "code",
   "execution_count": 15,
   "metadata": {},
   "outputs": [],
   "source": [
    "pickle_in = open(\"X.pickle\",\"rb\")\n",
    "X = pickle.load(pickle_in)\n",
    "\n",
    "pickle_in = open(\"y.pickle\",\"rb\")\n",
    "y = pickle.load(pickle_in)"
   ]
  },
  {
   "cell_type": "code",
   "execution_count": 16,
   "metadata": {},
   "outputs": [
    {
     "name": "stdout",
     "output_type": "stream",
     "text": [
      "WARNING:tensorflow:From C:\\Users\\GRENTOR\\Anaconda3\\envs\\tflow\\lib\\site-packages\\tensorflow\\python\\ops\\resource_variable_ops.py:435: colocate_with (from tensorflow.python.framework.ops) is deprecated and will be removed in a future version.\n",
      "Instructions for updating:\n",
      "Colocations handled automatically by placer.\n",
      "Train on 43 samples, validate on 19 samples\n",
      "WARNING:tensorflow:From C:\\Users\\GRENTOR\\Anaconda3\\envs\\tflow\\lib\\site-packages\\tensorflow\\python\\ops\\math_ops.py:3066: to_int32 (from tensorflow.python.ops.math_ops) is deprecated and will be removed in a future version.\n",
      "Instructions for updating:\n",
      "Use tf.cast instead.\n",
      "Epoch 1/3\n",
      "43/43 [==============================] - ETA: 1s - loss: 0.6709 - acc: 0.781 - 5s 105ms/sample - loss: 1.7339 - acc: 0.7442 - val_loss: 1.0881 - val_acc: 0.6316\n",
      "Epoch 2/3\n",
      "43/43 [==============================] - ETA: 0s - loss: 0.6905 - acc: 0.781 - 3s 66ms/sample - loss: 0.7145 - acc: 0.6744 - val_loss: 0.7481 - val_acc: 0.3684\n",
      "Epoch 3/3\n",
      "43/43 [==============================] - ETA: 0s - loss: 0.7611 - acc: 0.312 - 3s 69ms/sample - loss: 0.7331 - acc: 0.4651 - val_loss: 0.6268 - val_acc: 0.6316\n"
     ]
    },
    {
     "data": {
      "text/plain": [
       "<tensorflow.python.keras.callbacks.History at 0x247c8f82438>"
      ]
     },
     "execution_count": 16,
     "metadata": {},
     "output_type": "execute_result"
    }
   ],
   "source": [
    "import tensorflow as tf\n",
    "from tensorflow.keras.datasets import cifar10\n",
    "from tensorflow.keras.preprocessing.image import ImageDataGenerator\n",
    "from tensorflow.keras.models import Sequential\n",
    "from tensorflow.keras.layers import Dense, Dropout, Activation, Flatten\n",
    "from tensorflow.keras.layers import Conv2D, MaxPooling2D\n",
    "\n",
    "import pickle\n",
    "\n",
    "pickle_in = open(\"X.pickle\",\"rb\")\n",
    "X = pickle.load(pickle_in)\n",
    "\n",
    "pickle_in = open(\"y.pickle\",\"rb\")\n",
    "y = pickle.load(pickle_in)\n",
    "\n",
    "X = X/255.0\n",
    "\n",
    "model = Sequential()\n",
    "\n",
    "model.add(Conv2D(256, (3, 3), input_shape=X.shape[1:]))\n",
    "model.add(Activation('relu'))\n",
    "model.add(MaxPooling2D(pool_size=(2, 2)))\n",
    "\n",
    "model.add(Conv2D(256, (3, 3)))\n",
    "model.add(Activation('relu'))\n",
    "model.add(MaxPooling2D(pool_size=(2, 2)))\n",
    "\n",
    "model.add(Flatten())  # this converts our 3D feature maps to 1D feature vectors\n",
    "\n",
    "model.add(Dense(64))\n",
    "\n",
    "model.add(Dense(1))\n",
    "model.add(Activation('sigmoid'))\n",
    "\n",
    "model.compile(loss='binary_crossentropy',\n",
    "              optimizer='adam',\n",
    "              metrics=['accuracy'])\n",
    "\n",
    "model.fit(X, y, batch_size=32, epochs=3, validation_split=0.3)"
   ]
  },
  {
   "cell_type": "code",
   "execution_count": 1,
   "metadata": {},
   "outputs": [],
   "source": [
    "from tensorflow.keras.callbacks import TensorBoard"
   ]
  },
  {
   "cell_type": "code",
   "execution_count": 2,
   "metadata": {},
   "outputs": [],
   "source": [
    "NAME = \"Mosquitoes-Species-Anopheles-vs-Mosquito-Species-Aedes-CNN\"\n",
    "\n",
    "tensorboard = TensorBoard(log_dir=\"logs/{}\".format(NAME))"
   ]
  },
  {
   "cell_type": "code",
   "execution_count": 17,
   "metadata": {},
   "outputs": [
    {
     "name": "stdout",
     "output_type": "stream",
     "text": [
      "Train on 43 samples, validate on 19 samples\n",
      "Epoch 1/3\n",
      "43/43 [==============================] - ETA: 0s - loss: 0.6966 - acc: 0.312 - 4s 93ms/sample - loss: 1.1605 - acc: 0.4419 - val_loss: 1.4407 - val_acc: 0.6316\n",
      "Epoch 2/3\n",
      "43/43 [==============================] - ETA: 0s - loss: 1.3589 - acc: 0.687 - 3s 66ms/sample - loss: 1.3992 - acc: 0.5349 - val_loss: 0.7158 - val_acc: 0.3684\n",
      "Epoch 3/3\n",
      "43/43 [==============================] - ETA: 0s - loss: 0.7174 - acc: 0.281 - 3s 61ms/sample - loss: 0.6687 - acc: 0.4186 - val_loss: 0.6685 - val_acc: 0.6316\n"
     ]
    },
    {
     "data": {
      "text/plain": [
       "<tensorflow.python.keras.callbacks.History at 0x247a3acb860>"
      ]
     },
     "execution_count": 17,
     "metadata": {},
     "output_type": "execute_result"
    }
   ],
   "source": [
    "import tensorflow as tf\n",
    "from tensorflow.keras.datasets import cifar10\n",
    "from tensorflow.keras.preprocessing.image import ImageDataGenerator\n",
    "from tensorflow.keras.models import Sequential\n",
    "from tensorflow.keras.layers import Dense, Dropout, Activation, Flatten\n",
    "from tensorflow.keras.layers import Conv2D, MaxPooling2D\n",
    "# more info on callbakcs: https://keras.io/callbacks/ model saver is cool too.\n",
    "from tensorflow.keras.callbacks import TensorBoard\n",
    "import pickle\n",
    "import time\n",
    "\n",
    "NAME = \"Mosquitoes-Species-Anopheles-vs-Mosquito-Species-Aedes-CNN\"\n",
    "\n",
    "pickle_in = open(\"X.pickle\",\"rb\")\n",
    "X = pickle.load(pickle_in)\n",
    "\n",
    "pickle_in = open(\"y.pickle\",\"rb\")\n",
    "y = pickle.load(pickle_in)\n",
    "\n",
    "X = X/255.0\n",
    "\n",
    "model = Sequential()\n",
    "\n",
    "model.add(Conv2D(256, (3, 3), input_shape=X.shape[1:]))\n",
    "model.add(Activation('relu'))\n",
    "model.add(MaxPooling2D(pool_size=(2, 2)))\n",
    "\n",
    "model.add(Conv2D(256, (3, 3)))\n",
    "model.add(Activation('relu'))\n",
    "model.add(MaxPooling2D(pool_size=(2, 2)))\n",
    "\n",
    "model.add(Flatten())  # this converts our 3D feature maps to 1D feature vectors\n",
    "model.add(Dense(64))\n",
    "\n",
    "model.add(Dense(1))\n",
    "model.add(Activation('sigmoid'))\n",
    "\n",
    "tensorboard = TensorBoard(log_dir=\"logs/{}\".format(NAME))\n",
    "\n",
    "model.compile(loss='binary_crossentropy',\n",
    "              optimizer='adam',\n",
    "              metrics=['accuracy'],\n",
    "              )\n",
    "\n",
    "model.fit(X, y,\n",
    "          batch_size=32,\n",
    "          epochs=3,\n",
    "          validation_split=0.3,\n",
    "          callbacks=[tensorboard])"
   ]
  },
  {
   "cell_type": "code",
   "execution_count": 18,
   "metadata": {},
   "outputs": [
    {
     "name": "stdout",
     "output_type": "stream",
     "text": [
      "Train on 43 samples, validate on 19 samples\n",
      "Epoch 1/10\n",
      "43/43 [==============================] - ETA: 0s - loss: 0.6635 - acc: 0.750 - 1s 33ms/sample - loss: 0.7158 - acc: 0.7442 - val_loss: 0.7767 - val_acc: 0.6316\n",
      "Epoch 2/10\n",
      "43/43 [==============================] - ETA: 0s - loss: 0.6278 - acc: 0.750 - 1s 14ms/sample - loss: 0.6111 - acc: 0.7442 - val_loss: 0.6455 - val_acc: 0.6316\n",
      "Epoch 3/10\n",
      "43/43 [==============================] - ETA: 0s - loss: 0.6150 - acc: 0.750 - 0s 11ms/sample - loss: 0.6123 - acc: 0.7674 - val_loss: 0.6095 - val_acc: 0.6316\n",
      "Epoch 4/10\n",
      "43/43 [==============================] - ETA: 0s - loss: 0.5276 - acc: 0.781 - 0s 11ms/sample - loss: 0.5463 - acc: 0.7442 - val_loss: 0.6260 - val_acc: 0.6316\n",
      "Epoch 5/10\n",
      "43/43 [==============================] - ETA: 0s - loss: 0.4897 - acc: 0.750 - 0s 11ms/sample - loss: 0.5132 - acc: 0.7442 - val_loss: 0.6136 - val_acc: 0.6316\n",
      "Epoch 6/10\n",
      "43/43 [==============================] - ETA: 0s - loss: 0.6001 - acc: 0.656 - 1s 12ms/sample - loss: 0.5092 - acc: 0.7442 - val_loss: 0.5887 - val_acc: 0.6316\n",
      "Epoch 7/10\n",
      "43/43 [==============================] - ETA: 0s - loss: 0.4177 - acc: 0.812 - 1s 12ms/sample - loss: 0.4816 - acc: 0.7442 - val_loss: 0.5761 - val_acc: 0.6316\n",
      "Epoch 8/10\n",
      "43/43 [==============================] - ETA: 0s - loss: 0.4343 - acc: 0.781 - 0s 11ms/sample - loss: 0.4504 - acc: 0.7442 - val_loss: 0.5419 - val_acc: 0.6316\n",
      "Epoch 9/10\n",
      "43/43 [==============================] - ETA: 0s - loss: 0.4381 - acc: 0.750 - 0s 11ms/sample - loss: 0.4251 - acc: 0.7674 - val_loss: 0.5163 - val_acc: 0.6316\n",
      "Epoch 10/10\n",
      "43/43 [==============================] - ETA: 0s - loss: 0.3894 - acc: 0.750 - 0s 11ms/sample - loss: 0.3853 - acc: 0.7674 - val_loss: 0.4994 - val_acc: 0.6316\n"
     ]
    },
    {
     "data": {
      "text/plain": [
       "<tensorflow.python.keras.callbacks.History at 0x247a46c14e0>"
      ]
     },
     "execution_count": 18,
     "metadata": {},
     "output_type": "execute_result"
    }
   ],
   "source": [
    "from tensorflow.keras.models import Sequential\n",
    "from tensorflow.keras.layers import Dense, Dropout, Activation, Flatten\n",
    "from tensorflow.keras.layers import Conv2D, MaxPooling2D\n",
    "# more info on callbakcs: https://keras.io/callbacks/ model saver is cool too.\n",
    "from tensorflow.keras.callbacks import TensorBoard\n",
    "import pickle\n",
    "import time\n",
    "\n",
    "NAME = \"Mosquitoes-Species-Anopheles-vs-Mosquito-Species-Aedes-CNN\"\n",
    "\n",
    "pickle_in = open(\"X.pickle\",\"rb\")\n",
    "X = pickle.load(pickle_in)\n",
    "\n",
    "pickle_in = open(\"y.pickle\",\"rb\")\n",
    "y = pickle.load(pickle_in)\n",
    "\n",
    "X = X/255.0\n",
    "\n",
    "model = Sequential()\n",
    "\n",
    "model.add(Conv2D(64, (3, 3), input_shape=X.shape[1:]))\n",
    "model.add(Activation('relu'))\n",
    "model.add(MaxPooling2D(pool_size=(2, 2)))\n",
    "\n",
    "model.add(Conv2D(64, (3, 3)))\n",
    "model.add(Activation('relu'))\n",
    "model.add(MaxPooling2D(pool_size=(2, 2)))\n",
    "\n",
    "model.add(Flatten())  # this converts our 3D feature maps to 1D feature vectors\n",
    "model.add(Dense(64))\n",
    "model.add(Activation('relu'))\n",
    "\n",
    "model.add(Dense(1))\n",
    "model.add(Activation('sigmoid'))\n",
    "\n",
    "tensorboard = TensorBoard(log_dir=\"logs/{}\".format(NAME))\n",
    "\n",
    "model.compile(loss='binary_crossentropy',\n",
    "              optimizer='adam',\n",
    "              metrics=['accuracy'],\n",
    "              )\n",
    "\n",
    "model.fit(X, y,\n",
    "          batch_size=32,\n",
    "          epochs=10,\n",
    "          validation_split=0.3,\n",
    "          callbacks=[tensorboard])"
   ]
  },
  {
   "cell_type": "code",
   "execution_count": 19,
   "metadata": {},
   "outputs": [
    {
     "name": "stdout",
     "output_type": "stream",
     "text": [
      "Train on 43 samples, validate on 19 samples\n",
      "Epoch 1/10\n",
      "43/43 [==============================] - ETA: 0s - loss: 0.7013 - acc: 0.312 - 2s 38ms/sample - loss: 0.6072 - acc: 0.4651 - val_loss: 1.0173 - val_acc: 0.6316\n",
      "Epoch 2/10\n",
      "43/43 [==============================] - ETA: 0s - loss: 0.9680 - acc: 0.687 - 0s 12ms/sample - loss: 0.7894 - acc: 0.7442 - val_loss: 0.7603 - val_acc: 0.6316\n",
      "Epoch 3/10\n",
      "43/43 [==============================] - ETA: 0s - loss: 0.6478 - acc: 0.718 - 0s 12ms/sample - loss: 0.5965 - acc: 0.7442 - val_loss: 0.6283 - val_acc: 0.6316\n",
      "Epoch 4/10\n",
      "43/43 [==============================] - ETA: 0s - loss: 0.5384 - acc: 0.750 - 1s 13ms/sample - loss: 0.5336 - acc: 0.7442 - val_loss: 0.6078 - val_acc: 0.6316\n",
      "Epoch 5/10\n",
      "43/43 [==============================] - ETA: 0s - loss: 0.5074 - acc: 0.781 - 0s 11ms/sample - loss: 0.5250 - acc: 0.7442 - val_loss: 0.6007 - val_acc: 0.6316\n",
      "Epoch 6/10\n",
      "43/43 [==============================] - ETA: 0s - loss: 0.4344 - acc: 0.812 - 0s 12ms/sample - loss: 0.5091 - acc: 0.7442 - val_loss: 0.5874 - val_acc: 0.6316\n",
      "Epoch 7/10\n",
      "43/43 [==============================] - ETA: 0s - loss: 0.5242 - acc: 0.687 - 0s 11ms/sample - loss: 0.4825 - acc: 0.7442 - val_loss: 0.5564 - val_acc: 0.6316\n",
      "Epoch 8/10\n",
      "43/43 [==============================] - ETA: 0s - loss: 0.4525 - acc: 0.781 - 1s 12ms/sample - loss: 0.4482 - acc: 0.7674 - val_loss: 0.5638 - val_acc: 0.6316\n",
      "Epoch 9/10\n",
      "43/43 [==============================] - ETA: 0s - loss: 0.4545 - acc: 0.718 - 0s 12ms/sample - loss: 0.4182 - acc: 0.7442 - val_loss: 0.5571 - val_acc: 0.6316\n",
      "Epoch 10/10\n",
      "43/43 [==============================] - ETA: 0s - loss: 0.4160 - acc: 0.750 - 0s 11ms/sample - loss: 0.3882 - acc: 0.7674 - val_loss: 0.4933 - val_acc: 0.6316\n"
     ]
    },
    {
     "data": {
      "text/plain": [
       "<tensorflow.python.keras.callbacks.History at 0x247ad93e710>"
      ]
     },
     "execution_count": 19,
     "metadata": {},
     "output_type": "execute_result"
    }
   ],
   "source": [
    "from tensorflow.keras.models import Sequential\n",
    "from tensorflow.keras.layers import Dense, Dropout, Activation, Flatten\n",
    "from tensorflow.keras.layers import Conv2D, MaxPooling2D\n",
    "# more info on callbakcs: https://keras.io/callbacks/ model saver is cool too.\n",
    "from tensorflow.keras.callbacks import TensorBoard\n",
    "import pickle\n",
    "import time\n",
    "\n",
    "NAME = \"Mosquitoes-Species-Anopheles-vs-Mosquito-Species-Aedes-CNN\"\n",
    "\n",
    "pickle_in = open(\"X.pickle\",\"rb\")\n",
    "X = pickle.load(pickle_in)\n",
    "\n",
    "pickle_in = open(\"y.pickle\",\"rb\")\n",
    "y = pickle.load(pickle_in)\n",
    "\n",
    "X = X/255.0\n",
    "\n",
    "model = Sequential()\n",
    "\n",
    "model.add(Conv2D(64, (3, 3), input_shape=X.shape[1:]))\n",
    "model.add(Activation('relu'))\n",
    "model.add(MaxPooling2D(pool_size=(2, 2)))\n",
    "\n",
    "model.add(Conv2D(64, (3, 3)))\n",
    "model.add(Activation('relu'))\n",
    "model.add(MaxPooling2D(pool_size=(2, 2)))\n",
    "\n",
    "model.add(Flatten())  # this converts our 3D feature maps to 1D feature vectors\n",
    "model.add(Dense(64))\n",
    "model.add(Activation('relu'))\n",
    "\n",
    "model.add(Dense(1))\n",
    "model.add(Activation('sigmoid'))\n",
    "\n",
    "tensorboard = TensorBoard(log_dir=\"logs/{}\".format(NAME))\n",
    "\n",
    "model.compile(loss='binary_crossentropy',\n",
    "              optimizer='adam',\n",
    "              metrics=['accuracy'],\n",
    "              )\n",
    "\n",
    "model.fit(X, y,\n",
    "          batch_size=32,\n",
    "          epochs=10,\n",
    "          validation_split=0.3,\n",
    "          callbacks=[tensorboard])"
   ]
  },
  {
   "cell_type": "code",
   "execution_count": 23,
   "metadata": {},
   "outputs": [
    {
     "name": "stdout",
     "output_type": "stream",
     "text": [
      "1-conv-32-nodes-0-dense-1562734461\n",
      "2-conv-32-nodes-0-dense-1562734461\n",
      "3-conv-32-nodes-0-dense-1562734461\n",
      "1-conv-64-nodes-0-dense-1562734461\n",
      "2-conv-64-nodes-0-dense-1562734461\n",
      "3-conv-64-nodes-0-dense-1562734461\n",
      "1-conv-128-nodes-0-dense-1562734461\n",
      "2-conv-128-nodes-0-dense-1562734461\n",
      "3-conv-128-nodes-0-dense-1562734461\n",
      "1-conv-32-nodes-1-dense-1562734461\n",
      "2-conv-32-nodes-1-dense-1562734461\n",
      "3-conv-32-nodes-1-dense-1562734461\n",
      "1-conv-64-nodes-1-dense-1562734461\n",
      "2-conv-64-nodes-1-dense-1562734461\n",
      "3-conv-64-nodes-1-dense-1562734461\n",
      "1-conv-128-nodes-1-dense-1562734461\n",
      "2-conv-128-nodes-1-dense-1562734461\n",
      "3-conv-128-nodes-1-dense-1562734461\n",
      "1-conv-32-nodes-2-dense-1562734461\n",
      "2-conv-32-nodes-2-dense-1562734461\n",
      "3-conv-32-nodes-2-dense-1562734461\n",
      "1-conv-64-nodes-2-dense-1562734461\n",
      "2-conv-64-nodes-2-dense-1562734461\n",
      "3-conv-64-nodes-2-dense-1562734461\n",
      "1-conv-128-nodes-2-dense-1562734461\n",
      "2-conv-128-nodes-2-dense-1562734461\n",
      "3-conv-128-nodes-2-dense-1562734461\n"
     ]
    }
   ],
   "source": [
    "import time\n",
    "\n",
    "dense_layers = [0,1,2]\n",
    "layer_sizes = [32, 64, 128]\n",
    "conv_layers = [1, 2, 3]\n",
    "\n",
    "for dense_layer in dense_layers:\n",
    "    for layer_size in layer_sizes:\n",
    "        for conv_layer in conv_layers:\n",
    "            NAME = \"{}-conv-{}-nodes-{}-dense-{}\".format(conv_layer, layer_size, dense_layer, int(time.time()))\n",
    "            print(NAME)\n"
   ]
  },
  {
   "cell_type": "code",
   "execution_count": 24,
   "metadata": {},
   "outputs": [
    {
     "name": "stdout",
     "output_type": "stream",
     "text": [
      "1-conv-32-nodes-0-dense-1562734522\n",
      "2-conv-32-nodes-0-dense-1562734523\n",
      "3-conv-32-nodes-0-dense-1562734523\n",
      "1-conv-64-nodes-0-dense-1562734523\n",
      "2-conv-64-nodes-0-dense-1562734523\n",
      "3-conv-64-nodes-0-dense-1562734523\n",
      "1-conv-128-nodes-0-dense-1562734523\n",
      "2-conv-128-nodes-0-dense-1562734523\n",
      "3-conv-128-nodes-0-dense-1562734524\n",
      "1-conv-32-nodes-1-dense-1562734524\n",
      "2-conv-32-nodes-1-dense-1562734524\n",
      "3-conv-32-nodes-1-dense-1562734524\n",
      "1-conv-64-nodes-1-dense-1562734524\n",
      "2-conv-64-nodes-1-dense-1562734524\n",
      "3-conv-64-nodes-1-dense-1562734524\n",
      "1-conv-128-nodes-1-dense-1562734525\n",
      "2-conv-128-nodes-1-dense-1562734525\n",
      "3-conv-128-nodes-1-dense-1562734525\n",
      "1-conv-32-nodes-2-dense-1562734525\n",
      "2-conv-32-nodes-2-dense-1562734525\n",
      "3-conv-32-nodes-2-dense-1562734525\n",
      "1-conv-64-nodes-2-dense-1562734526\n",
      "2-conv-64-nodes-2-dense-1562734526\n",
      "3-conv-64-nodes-2-dense-1562734526\n",
      "1-conv-128-nodes-2-dense-1562734526\n",
      "2-conv-128-nodes-2-dense-1562734526\n",
      "3-conv-128-nodes-2-dense-1562734527\n"
     ]
    }
   ],
   "source": [
    "dense_layers = [0, 1, 2]\n",
    "layer_sizes = [32, 64, 128]\n",
    "conv_layers = [1, 2, 3]\n",
    "\n",
    "for dense_layer in dense_layers:\n",
    "    for layer_size in layer_sizes:\n",
    "        for conv_layer in conv_layers:\n",
    "            NAME = \"{}-conv-{}-nodes-{}-dense-{}\".format(conv_layer, layer_size, dense_layer, int(time.time()))\n",
    "            print(NAME)\n",
    "\n",
    "            model = Sequential()\n",
    "\n",
    "            model.add(Conv2D(layer_size, (3, 3), input_shape=X.shape[1:]))\n",
    "            model.add(Activation('relu'))\n",
    "            model.add(MaxPooling2D(pool_size=(2, 2)))\n",
    "\n",
    "            for l in range(conv_layer-1):\n",
    "                model.add(Conv2D(layer_size, (3, 3)))\n",
    "                model.add(Activation('relu'))\n",
    "                model.add(MaxPooling2D(pool_size=(2, 2)))\n",
    "\n",
    "            model.add(Flatten())\n",
    "            for _ in range(dense_layer):\n",
    "                model.add(Dense(layer_size))\n",
    "                model.add(Activation('relu'))\n",
    "\n",
    "            model.add(Dense(1))\n",
    "            model.add(Activation('sigmoid'))"
   ]
  },
  {
   "cell_type": "code",
   "execution_count": 25,
   "metadata": {},
   "outputs": [
    {
     "name": "stdout",
     "output_type": "stream",
     "text": [
      "1-conv-32-nodes-0-dense-1562734575\n",
      "Train on 43 samples, validate on 19 samples\n",
      "Epoch 1/10\n",
      "43/43 [==============================] - ETA: 0s - loss: 0.6961 - acc: 0.343 - 1s 29ms/sample - loss: 0.6394 - acc: 0.4651 - val_loss: 0.8912 - val_acc: 0.6316\n",
      "Epoch 2/10\n",
      "43/43 [==============================] - ETA: 0s - loss: 0.5378 - acc: 0.812 - 0s 4ms/sample - loss: 0.7007 - acc: 0.7442 - val_loss: 0.6903 - val_acc: 0.6316\n",
      "Epoch 3/10\n",
      "43/43 [==============================] - ETA: 0s - loss: 0.4922 - acc: 0.781 - 0s 4ms/sample - loss: 0.5215 - acc: 0.7442 - val_loss: 0.6184 - val_acc: 0.6842\n",
      "Epoch 4/10\n",
      "43/43 [==============================] - ETA: 0s - loss: 0.5716 - acc: 0.906 - 0s 4ms/sample - loss: 0.5741 - acc: 0.9302 - val_loss: 0.6458 - val_acc: 0.7368\n",
      "Epoch 5/10\n",
      "43/43 [==============================] - ETA: 0s - loss: 0.6154 - acc: 0.750 - 0s 3ms/sample - loss: 0.5949 - acc: 0.8140 - val_loss: 0.5553 - val_acc: 0.6842\n",
      "Epoch 6/10\n",
      "43/43 [==============================] - ETA: 0s - loss: 0.4562 - acc: 0.812 - 0s 3ms/sample - loss: 0.4678 - acc: 0.7907 - val_loss: 0.5827 - val_acc: 0.6316\n",
      "Epoch 7/10\n",
      "43/43 [==============================] - ETA: 0s - loss: 0.4673 - acc: 0.750 - 0s 4ms/sample - loss: 0.4498 - acc: 0.7442 - val_loss: 0.6376 - val_acc: 0.6316\n",
      "Epoch 8/10\n",
      "43/43 [==============================] - ETA: 0s - loss: 0.4632 - acc: 0.750 - 0s 3ms/sample - loss: 0.4773 - acc: 0.7442 - val_loss: 0.6095 - val_acc: 0.6316\n",
      "Epoch 9/10\n",
      "43/43 [==============================] - ETA: 0s - loss: 0.5416 - acc: 0.687 - 0s 4ms/sample - loss: 0.4493 - acc: 0.7442 - val_loss: 0.5364 - val_acc: 0.6316\n",
      "Epoch 10/10\n",
      "43/43 [==============================] - ETA: 0s - loss: 0.3413 - acc: 0.812 - 0s 3ms/sample - loss: 0.3803 - acc: 0.7674 - val_loss: 0.4901 - val_acc: 0.6842\n",
      "2-conv-32-nodes-0-dense-1562734592\n",
      "Train on 43 samples, validate on 19 samples\n",
      "Epoch 1/10\n",
      "43/43 [==============================] - ETA: 0s - loss: 0.6687 - acc: 0.718 - 1s 31ms/sample - loss: 0.6415 - acc: 0.7442 - val_loss: 0.6416 - val_acc: 0.6316\n",
      "Epoch 2/10\n",
      "43/43 [==============================] - ETA: 0s - loss: 0.6081 - acc: 0.687 - 0s 6ms/sample - loss: 0.5404 - acc: 0.7442 - val_loss: 0.7446 - val_acc: 0.6316\n",
      "Epoch 3/10\n",
      "43/43 [==============================] - ETA: 0s - loss: 0.7052 - acc: 0.687 - 0s 7ms/sample - loss: 0.5978 - acc: 0.7442 - val_loss: 0.7471 - val_acc: 0.6316\n",
      "Epoch 4/10\n",
      "43/43 [==============================] - ETA: 0s - loss: 0.6167 - acc: 0.718 - 0s 5ms/sample - loss: 0.5941 - acc: 0.7442 - val_loss: 0.6824 - val_acc: 0.6316\n",
      "Epoch 5/10\n",
      "43/43 [==============================] - ETA: 0s - loss: 0.4354 - acc: 0.812 - 0s 3ms/sample - loss: 0.5404 - acc: 0.7442 - val_loss: 0.6281 - val_acc: 0.6316\n",
      "Epoch 6/10\n",
      "43/43 [==============================] - ETA: 0s - loss: 0.5112 - acc: 0.750 - 0s 3ms/sample - loss: 0.5278 - acc: 0.7442 - val_loss: 0.6147 - val_acc: 0.6316\n",
      "Epoch 7/10\n",
      "43/43 [==============================] - ETA: 0s - loss: 0.5837 - acc: 0.687 - 0s 4ms/sample - loss: 0.5490 - acc: 0.7442 - val_loss: 0.6127 - val_acc: 0.6316\n",
      "Epoch 8/10\n",
      "43/43 [==============================] - ETA: 0s - loss: 0.5529 - acc: 0.718 - 0s 4ms/sample - loss: 0.5437 - acc: 0.7442 - val_loss: 0.6045 - val_acc: 0.6316\n",
      "Epoch 9/10\n",
      "43/43 [==============================] - ETA: 0s - loss: 0.5129 - acc: 0.750 - 0s 5ms/sample - loss: 0.5231 - acc: 0.7442 - val_loss: 0.6059 - val_acc: 0.6316\n",
      "Epoch 10/10\n",
      "43/43 [==============================] - ETA: 0s - loss: 0.4731 - acc: 0.781 - 0s 4ms/sample - loss: 0.5063 - acc: 0.7442 - val_loss: 0.6155 - val_acc: 0.6316\n",
      "3-conv-32-nodes-0-dense-1562734609\n",
      "Train on 43 samples, validate on 19 samples\n",
      "Epoch 1/10\n",
      "43/43 [==============================] - ETA: 0s - loss: 0.7648 - acc: 0.250 - 1s 31ms/sample - loss: 0.7497 - acc: 0.2558 - val_loss: 0.6858 - val_acc: 0.6316\n",
      "Epoch 2/10\n",
      "43/43 [==============================] - ETA: 0s - loss: 0.6673 - acc: 0.812 - 0s 6ms/sample - loss: 0.6659 - acc: 0.7674 - val_loss: 0.6586 - val_acc: 0.6316\n",
      "Epoch 3/10\n",
      "43/43 [==============================] - ETA: 0s - loss: 0.6183 - acc: 0.750 - 0s 6ms/sample - loss: 0.6099 - acc: 0.7442 - val_loss: 0.6454 - val_acc: 0.6316\n",
      "Epoch 4/10\n",
      "43/43 [==============================] - ETA: 0s - loss: 0.5451 - acc: 0.781 - 0s 6ms/sample - loss: 0.5749 - acc: 0.7442 - val_loss: 0.6589 - val_acc: 0.6316\n",
      "Epoch 5/10\n",
      "43/43 [==============================] - ETA: 0s - loss: 0.5495 - acc: 0.750 - 0s 6ms/sample - loss: 0.5514 - acc: 0.7442 - val_loss: 0.6853 - val_acc: 0.6316\n",
      "Epoch 6/10\n",
      "43/43 [==============================] - ETA: 0s - loss: 0.5553 - acc: 0.750 - 0s 6ms/sample - loss: 0.5553 - acc: 0.7442 - val_loss: 0.6908 - val_acc: 0.6316\n",
      "Epoch 7/10\n",
      "43/43 [==============================] - ETA: 0s - loss: 0.5220 - acc: 0.781 - 0s 8ms/sample - loss: 0.5544 - acc: 0.7442 - val_loss: 0.6683 - val_acc: 0.6316\n",
      "Epoch 8/10\n",
      "43/43 [==============================] - ETA: 0s - loss: 0.5386 - acc: 0.750 - 0s 7ms/sample - loss: 0.5452 - acc: 0.7442 - val_loss: 0.6441 - val_acc: 0.6316\n",
      "Epoch 9/10\n",
      "43/43 [==============================] - ETA: 0s - loss: 0.5720 - acc: 0.718 - 0s 5ms/sample - loss: 0.5441 - acc: 0.7442 - val_loss: 0.6341 - val_acc: 0.6316\n",
      "Epoch 10/10\n",
      "43/43 [==============================] - ETA: 0s - loss: 0.5538 - acc: 0.718 - 0s 7ms/sample - loss: 0.5406 - acc: 0.7442 - val_loss: 0.6323 - val_acc: 0.6316\n",
      "1-conv-64-nodes-0-dense-1562734630\n",
      "Train on 43 samples, validate on 19 samples\n",
      "Epoch 1/10\n",
      "43/43 [==============================] - ETA: 0s - loss: 0.6446 - acc: 0.781 - 1s 27ms/sample - loss: 0.7996 - acc: 0.7442 - val_loss: 1.0325 - val_acc: 0.6316\n",
      "Epoch 2/10\n",
      "43/43 [==============================] - ETA: 0s - loss: 0.5851 - acc: 0.812 - 0s 7ms/sample - loss: 0.7079 - acc: 0.7442 - val_loss: 0.5967 - val_acc: 0.6842\n",
      "Epoch 3/10\n",
      "43/43 [==============================] - ETA: 0s - loss: 0.5249 - acc: 0.843 - 0s 6ms/sample - loss: 0.5705 - acc: 0.7209 - val_loss: 0.7414 - val_acc: 0.3684\n",
      "Epoch 4/10\n",
      "43/43 [==============================] - ETA: 0s - loss: 0.7822 - acc: 0.218 - 0s 6ms/sample - loss: 0.7343 - acc: 0.3953 - val_loss: 0.5423 - val_acc: 0.6842\n",
      "Epoch 5/10\n",
      "43/43 [==============================] - ETA: 0s - loss: 0.4873 - acc: 0.750 - 0s 9ms/sample - loss: 0.4377 - acc: 0.7907 - val_loss: 0.6129 - val_acc: 0.6316\n",
      "Epoch 6/10\n",
      "43/43 [==============================] - ETA: 0s - loss: 0.4338 - acc: 0.781 - 0s 6ms/sample - loss: 0.4941 - acc: 0.7442 - val_loss: 0.6588 - val_acc: 0.6316\n",
      "Epoch 7/10\n",
      "43/43 [==============================] - ETA: 0s - loss: 0.5589 - acc: 0.718 - 0s 6ms/sample - loss: 0.5004 - acc: 0.7442 - val_loss: 0.5691 - val_acc: 0.6316\n",
      "Epoch 8/10\n",
      "43/43 [==============================] - ETA: 0s - loss: 0.3327 - acc: 0.781 - 0s 6ms/sample - loss: 0.4100 - acc: 0.7442 - val_loss: 0.4866 - val_acc: 0.6842\n",
      "Epoch 9/10\n",
      "43/43 [==============================] - ETA: 0s - loss: 0.4019 - acc: 0.781 - 0s 7ms/sample - loss: 0.3692 - acc: 0.8372 - val_loss: 0.4715 - val_acc: 0.7895\n",
      "Epoch 10/10\n",
      "43/43 [==============================] - ETA: 0s - loss: 0.3748 - acc: 0.906 - 0s 7ms/sample - loss: 0.3618 - acc: 0.9302 - val_loss: 0.4573 - val_acc: 0.7368\n",
      "2-conv-64-nodes-0-dense-1562734650\n",
      "Train on 43 samples, validate on 19 samples\n",
      "Epoch 1/10\n",
      "43/43 [==============================] - ETA: 0s - loss: 0.7204 - acc: 0.281 - 2s 37ms/sample - loss: 0.6656 - acc: 0.4186 - val_loss: 0.7562 - val_acc: 0.6316\n",
      "Epoch 2/10\n",
      "43/43 [==============================] - ETA: 0s - loss: 0.5734 - acc: 0.750 - 0s 11ms/sample - loss: 0.6158 - acc: 0.7442 - val_loss: 0.6911 - val_acc: 0.6316\n",
      "Epoch 3/10\n",
      "43/43 [==============================] - ETA: 0s - loss: 0.5996 - acc: 0.718 - 0s 11ms/sample - loss: 0.5642 - acc: 0.7442 - val_loss: 0.6242 - val_acc: 0.6316\n",
      "Epoch 4/10\n",
      "43/43 [==============================] - ETA: 0s - loss: 0.5683 - acc: 0.718 - 0s 11ms/sample - loss: 0.5550 - acc: 0.7442 - val_loss: 0.6223 - val_acc: 0.6316\n",
      "Epoch 5/10\n",
      "43/43 [==============================] - ETA: 0s - loss: 0.5597 - acc: 0.750 - 0s 11ms/sample - loss: 0.5519 - acc: 0.7442 - val_loss: 0.6176 - val_acc: 0.6316\n",
      "Epoch 6/10\n",
      "43/43 [==============================] - ETA: 0s - loss: 0.5390 - acc: 0.718 - 0s 9ms/sample - loss: 0.5250 - acc: 0.7442 - val_loss: 0.6489 - val_acc: 0.6316\n"
     ]
    },
    {
     "name": "stdout",
     "output_type": "stream",
     "text": [
      "Epoch 7/10\n",
      "43/43 [==============================] - ETA: 0s - loss: 0.4135 - acc: 0.843 - 0s 8ms/sample - loss: 0.5554 - acc: 0.7442 - val_loss: 0.6519 - val_acc: 0.6316\n",
      "Epoch 8/10\n",
      "43/43 [==============================] - ETA: 0s - loss: 0.5792 - acc: 0.687 - 0s 9ms/sample - loss: 0.5268 - acc: 0.7442 - val_loss: 0.5982 - val_acc: 0.6316\n",
      "Epoch 9/10\n",
      "43/43 [==============================] - ETA: 0s - loss: 0.5028 - acc: 0.750 - 0s 11ms/sample - loss: 0.4982 - acc: 0.7442 - val_loss: 0.5821 - val_acc: 0.6316\n",
      "Epoch 10/10\n",
      "43/43 [==============================] - ETA: 0s - loss: 0.4946 - acc: 0.750 - 0s 11ms/sample - loss: 0.4914 - acc: 0.7442 - val_loss: 0.5668 - val_acc: 0.6316\n",
      "3-conv-64-nodes-0-dense-1562734674\n",
      "Train on 43 samples, validate on 19 samples\n",
      "Epoch 1/10\n",
      "43/43 [==============================] - ETA: 0s - loss: 0.6616 - acc: 0.750 - 2s 40ms/sample - loss: 0.6411 - acc: 0.7442 - val_loss: 0.6654 - val_acc: 0.6316\n",
      "Epoch 2/10\n",
      "43/43 [==============================] - ETA: 0s - loss: 0.5628 - acc: 0.750 - 0s 10ms/sample - loss: 0.5630 - acc: 0.7442 - val_loss: 0.7211 - val_acc: 0.6316\n",
      "Epoch 3/10\n",
      "43/43 [==============================] - ETA: 0s - loss: 0.6004 - acc: 0.718 - 0s 10ms/sample - loss: 0.5713 - acc: 0.7442 - val_loss: 0.6536 - val_acc: 0.6316\n",
      "Epoch 4/10\n",
      "43/43 [==============================] - ETA: 0s - loss: 0.5670 - acc: 0.718 - 0s 11ms/sample - loss: 0.5491 - acc: 0.7442 - val_loss: 0.6391 - val_acc: 0.6316\n",
      "Epoch 5/10\n",
      "43/43 [==============================] - ETA: 0s - loss: 0.5019 - acc: 0.781 - 0s 11ms/sample - loss: 0.5495 - acc: 0.7442 - val_loss: 0.6364 - val_acc: 0.6316\n",
      "Epoch 6/10\n",
      "43/43 [==============================] - ETA: 0s - loss: 0.5514 - acc: 0.718 - 0s 10ms/sample - loss: 0.5388 - acc: 0.7442 - val_loss: 0.6332 - val_acc: 0.6316\n",
      "Epoch 7/10\n",
      "43/43 [==============================] - ETA: 0s - loss: 0.5856 - acc: 0.687 - 0s 11ms/sample - loss: 0.5287 - acc: 0.7442 - val_loss: 0.6459 - val_acc: 0.6316\n",
      "Epoch 8/10\n",
      "43/43 [==============================] - ETA: 0s - loss: 0.3995 - acc: 0.843 - 0s 10ms/sample - loss: 0.5540 - acc: 0.7442 - val_loss: 0.6557 - val_acc: 0.6316\n",
      "Epoch 9/10\n",
      "43/43 [==============================] - ETA: 0s - loss: 0.4959 - acc: 0.781 - 0s 11ms/sample - loss: 0.5169 - acc: 0.7442 - val_loss: 0.6150 - val_acc: 0.6316\n",
      "Epoch 10/10\n",
      "43/43 [==============================] - ETA: 0s - loss: 0.5230 - acc: 0.718 - 0s 10ms/sample - loss: 0.5145 - acc: 0.7442 - val_loss: 0.6029 - val_acc: 0.6316\n",
      "1-conv-128-nodes-0-dense-1562734700\n",
      "Train on 43 samples, validate on 19 samples\n",
      "Epoch 1/10\n",
      "43/43 [==============================] - ETA: 0s - loss: 0.6658 - acc: 0.750 - 1s 27ms/sample - loss: 0.8007 - acc: 0.7442 - val_loss: 1.1935 - val_acc: 0.6316\n",
      "Epoch 2/10\n",
      "43/43 [==============================] - ETA: 0s - loss: 1.0475 - acc: 0.718 - 0s 10ms/sample - loss: 0.8851 - acc: 0.7442 - val_loss: 0.5994 - val_acc: 0.6842\n",
      "Epoch 3/10\n",
      "43/43 [==============================] - ETA: 0s - loss: 0.5482 - acc: 0.875 - 0s 8ms/sample - loss: 0.5931 - acc: 0.7209 - val_loss: 0.5816 - val_acc: 0.7895\n",
      "Epoch 4/10\n",
      "43/43 [==============================] - ETA: 0s - loss: 0.5122 - acc: 0.906 - 0s 10ms/sample - loss: 0.5366 - acc: 0.8372 - val_loss: 0.5801 - val_acc: 0.6316\n",
      "Epoch 5/10\n",
      "43/43 [==============================] - ETA: 0s - loss: 0.4341 - acc: 0.750 - 0s 10ms/sample - loss: 0.4557 - acc: 0.7442 - val_loss: 0.5824 - val_acc: 0.6316\n",
      "Epoch 6/10\n",
      "43/43 [==============================] - ETA: 0s - loss: 0.4473 - acc: 0.750 - 0s 11ms/sample - loss: 0.4330 - acc: 0.7442 - val_loss: 0.5176 - val_acc: 0.6316\n",
      "Epoch 7/10\n",
      "43/43 [==============================] - ETA: 0s - loss: 0.3477 - acc: 0.781 - 0s 9ms/sample - loss: 0.3721 - acc: 0.8140 - val_loss: 0.4729 - val_acc: 0.6842\n",
      "Epoch 8/10\n",
      "43/43 [==============================] - ETA: 0s - loss: 0.3571 - acc: 0.843 - 0s 10ms/sample - loss: 0.3388 - acc: 0.8837 - val_loss: 0.4560 - val_acc: 0.7895\n",
      "Epoch 9/10\n",
      "43/43 [==============================] - ETA: 0s - loss: 0.2853 - acc: 0.937 - 0s 9ms/sample - loss: 0.3144 - acc: 0.9070 - val_loss: 0.4480 - val_acc: 0.7895\n",
      "Epoch 10/10\n",
      "43/43 [==============================] - ETA: 0s - loss: 0.2560 - acc: 0.906 - 0s 10ms/sample - loss: 0.2827 - acc: 0.9070 - val_loss: 0.4228 - val_acc: 0.7895\n",
      "2-conv-128-nodes-0-dense-1562734725\n",
      "Train on 43 samples, validate on 19 samples\n",
      "Epoch 1/10\n",
      "43/43 [==============================] - ETA: 0s - loss: 0.6945 - acc: 0.562 - 2s 51ms/sample - loss: 0.6329 - acc: 0.6279 - val_loss: 0.9808 - val_acc: 0.6316\n",
      "Epoch 2/10\n",
      "43/43 [==============================] - ETA: 0s - loss: 0.8404 - acc: 0.718 - 1s 24ms/sample - loss: 0.7425 - acc: 0.7442 - val_loss: 0.6617 - val_acc: 0.6316\n",
      "Epoch 3/10\n",
      "43/43 [==============================] - ETA: 0s - loss: 0.6196 - acc: 0.687 - 1s 23ms/sample - loss: 0.5783 - acc: 0.7442 - val_loss: 0.6270 - val_acc: 0.6316\n",
      "Epoch 4/10\n",
      "43/43 [==============================] - ETA: 0s - loss: 0.5425 - acc: 0.781 - 1s 23ms/sample - loss: 0.5589 - acc: 0.7442 - val_loss: 0.6213 - val_acc: 0.6316\n",
      "Epoch 5/10\n",
      "43/43 [==============================] - ETA: 0s - loss: 0.5157 - acc: 0.781 - 1s 19ms/sample - loss: 0.5355 - acc: 0.7442 - val_loss: 0.6271 - val_acc: 0.6316\n",
      "Epoch 6/10\n",
      "43/43 [==============================] - ETA: 0s - loss: 0.5223 - acc: 0.750 - 1s 25ms/sample - loss: 0.5196 - acc: 0.7442 - val_loss: 0.6122 - val_acc: 0.6316\n",
      "Epoch 7/10\n",
      "43/43 [==============================] - ETA: 0s - loss: 0.5192 - acc: 0.718 - 1s 25ms/sample - loss: 0.5065 - acc: 0.7442 - val_loss: 0.5920 - val_acc: 0.6316\n",
      "Epoch 8/10\n",
      "43/43 [==============================] - ETA: 0s - loss: 0.4885 - acc: 0.750 - 1s 25ms/sample - loss: 0.4870 - acc: 0.7442 - val_loss: 0.5707 - val_acc: 0.6316\n",
      "Epoch 9/10\n",
      "43/43 [==============================] - ETA: 0s - loss: 0.4776 - acc: 0.718 - 1s 25ms/sample - loss: 0.4675 - acc: 0.7442 - val_loss: 0.5453 - val_acc: 0.6316\n",
      "Epoch 10/10\n",
      "43/43 [==============================] - ETA: 0s - loss: 0.3865 - acc: 0.781 - 1s 25ms/sample - loss: 0.4472 - acc: 0.7442 - val_loss: 0.5158 - val_acc: 0.6316\n",
      "3-conv-128-nodes-0-dense-1562734759\n",
      "Train on 43 samples, validate on 19 samples\n",
      "Epoch 1/10\n",
      "43/43 [==============================] - ETA: 0s - loss: 0.6755 - acc: 0.718 - 2s 50ms/sample - loss: 0.6368 - acc: 0.7442 - val_loss: 0.7702 - val_acc: 0.6316\n",
      "Epoch 2/10\n",
      "43/43 [==============================] - ETA: 0s - loss: 0.6496 - acc: 0.718 - 1s 27ms/sample - loss: 0.5986 - acc: 0.7442 - val_loss: 0.6814 - val_acc: 0.6316\n",
      "Epoch 3/10\n",
      "43/43 [==============================] - ETA: 0s - loss: 0.5344 - acc: 0.750 - 1s 27ms/sample - loss: 0.5477 - acc: 0.7442 - val_loss: 0.6372 - val_acc: 0.6316\n",
      "Epoch 4/10\n",
      "43/43 [==============================] - ETA: 0s - loss: 0.4884 - acc: 0.812 - 1s 29ms/sample - loss: 0.5473 - acc: 0.7442 - val_loss: 0.6292 - val_acc: 0.6316\n",
      "Epoch 5/10\n",
      "43/43 [==============================] - ETA: 0s - loss: 0.5578 - acc: 0.718 - 1s 29ms/sample - loss: 0.5441 - acc: 0.7442 - val_loss: 0.6204 - val_acc: 0.6316\n",
      "Epoch 6/10\n",
      "43/43 [==============================] - ETA: 0s - loss: 0.5513 - acc: 0.718 - 1s 28ms/sample - loss: 0.5204 - acc: 0.7442 - val_loss: 0.6540 - val_acc: 0.6316\n",
      "Epoch 7/10\n",
      "43/43 [==============================] - ETA: 0s - loss: 0.4922 - acc: 0.750 - 1s 27ms/sample - loss: 0.5274 - acc: 0.7442 - val_loss: 0.6497 - val_acc: 0.6316\n",
      "Epoch 8/10\n",
      "43/43 [==============================] - ETA: 0s - loss: 0.4706 - acc: 0.781 - 1s 29ms/sample - loss: 0.4983 - acc: 0.7442 - val_loss: 0.5886 - val_acc: 0.6316\n",
      "Epoch 9/10\n",
      "43/43 [==============================] - ETA: 0s - loss: 0.4780 - acc: 0.750 - 1s 27ms/sample - loss: 0.4857 - acc: 0.7442 - val_loss: 0.5752 - val_acc: 0.6316\n",
      "Epoch 10/10\n",
      "43/43 [==============================] - ETA: 0s - loss: 0.5038 - acc: 0.750 - 1s 28ms/sample - loss: 0.4809 - acc: 0.7674 - val_loss: 0.5538 - val_acc: 0.6316\n",
      "1-conv-32-nodes-1-dense-1562734796\n",
      "Train on 43 samples, validate on 19 samples\n",
      "Epoch 1/10\n",
      "43/43 [==============================] - ETA: 0s - loss: 0.7666 - acc: 0.281 - 1s 32ms/sample - loss: 0.7474 - acc: 0.4186 - val_loss: 1.0989 - val_acc: 0.6316\n",
      "Epoch 2/10\n",
      "43/43 [==============================] - ETA: 0s - loss: 0.9730 - acc: 0.718 - 0s 5ms/sample - loss: 0.8327 - acc: 0.7442 - val_loss: 0.5969 - val_acc: 0.6316\n"
     ]
    },
    {
     "name": "stdout",
     "output_type": "stream",
     "text": [
      "Epoch 3/10\n",
      "43/43 [==============================] - ETA: 0s - loss: 0.4879 - acc: 0.781 - 0s 4ms/sample - loss: 0.5140 - acc: 0.7442 - val_loss: 0.5813 - val_acc: 0.6842\n",
      "Epoch 4/10\n",
      "43/43 [==============================] - ETA: 0s - loss: 0.5324 - acc: 0.843 - 0s 5ms/sample - loss: 0.5098 - acc: 0.8372 - val_loss: 0.5697 - val_acc: 0.6316\n",
      "Epoch 5/10\n",
      "43/43 [==============================] - ETA: 0s - loss: 0.4237 - acc: 0.750 - 0s 4ms/sample - loss: 0.4782 - acc: 0.7442 - val_loss: 0.6031 - val_acc: 0.6316\n",
      "Epoch 6/10\n",
      "43/43 [==============================] - ETA: 0s - loss: 0.4329 - acc: 0.781 - 0s 5ms/sample - loss: 0.4553 - acc: 0.7442 - val_loss: 0.5184 - val_acc: 0.6316\n",
      "Epoch 7/10\n",
      "43/43 [==============================] - ETA: 0s - loss: 0.4164 - acc: 0.812 - 0s 4ms/sample - loss: 0.4118 - acc: 0.8605 - val_loss: 0.5186 - val_acc: 0.7368\n",
      "Epoch 8/10\n",
      "43/43 [==============================] - ETA: 0s - loss: 0.3891 - acc: 0.968 - 0s 5ms/sample - loss: 0.4085 - acc: 0.9535 - val_loss: 0.4883 - val_acc: 0.7895\n",
      "Epoch 9/10\n",
      "43/43 [==============================] - ETA: 0s - loss: 0.3346 - acc: 0.906 - 0s 5ms/sample - loss: 0.3592 - acc: 0.9070 - val_loss: 0.4775 - val_acc: 0.7895\n",
      "Epoch 10/10\n",
      "43/43 [==============================] - ETA: 0s - loss: 0.3327 - acc: 0.875 - 0s 4ms/sample - loss: 0.3247 - acc: 0.8837 - val_loss: 0.4746 - val_acc: 0.7368\n",
      "2-conv-32-nodes-1-dense-1562734822\n",
      "Train on 43 samples, validate on 19 samples\n",
      "Epoch 1/10\n",
      "43/43 [==============================] - ETA: 0s - loss: 0.6590 - acc: 0.781 - 1s 33ms/sample - loss: 0.6738 - acc: 0.7442 - val_loss: 0.6699 - val_acc: 0.6316\n",
      "Epoch 2/10\n",
      "43/43 [==============================] - ETA: 0s - loss: 0.6256 - acc: 0.687 - 0s 4ms/sample - loss: 0.5643 - acc: 0.7442 - val_loss: 0.6415 - val_acc: 0.6316\n",
      "Epoch 3/10\n",
      "43/43 [==============================] - ETA: 0s - loss: 0.4998 - acc: 0.781 - 0s 5ms/sample - loss: 0.5384 - acc: 0.7442 - val_loss: 0.6343 - val_acc: 0.6316\n",
      "Epoch 4/10\n",
      "43/43 [==============================] - ETA: 0s - loss: 0.5209 - acc: 0.750 - 0s 5ms/sample - loss: 0.5210 - acc: 0.7442 - val_loss: 0.6090 - val_acc: 0.6316\n",
      "Epoch 5/10\n",
      "43/43 [==============================] - ETA: 0s - loss: 0.4714 - acc: 0.781 - 0s 5ms/sample - loss: 0.5051 - acc: 0.7442 - val_loss: 0.5917 - val_acc: 0.6316\n",
      "Epoch 6/10\n",
      "43/43 [==============================] - ETA: 0s - loss: 0.5308 - acc: 0.687 - 0s 6ms/sample - loss: 0.4944 - acc: 0.7442 - val_loss: 0.5755 - val_acc: 0.6316\n",
      "Epoch 7/10\n",
      "43/43 [==============================] - ETA: 0s - loss: 0.4702 - acc: 0.750 - 0s 5ms/sample - loss: 0.4652 - acc: 0.7442 - val_loss: 0.5870 - val_acc: 0.6316\n",
      "Epoch 8/10\n",
      "43/43 [==============================] - ETA: 0s - loss: 0.4718 - acc: 0.750 - 0s 5ms/sample - loss: 0.4491 - acc: 0.7442 - val_loss: 0.5536 - val_acc: 0.6316\n",
      "Epoch 9/10\n",
      "43/43 [==============================] - ETA: 0s - loss: 0.4639 - acc: 0.718 - 0s 4ms/sample - loss: 0.4220 - acc: 0.7674 - val_loss: 0.5110 - val_acc: 0.6842\n",
      "Epoch 10/10\n",
      "43/43 [==============================] - ETA: 0s - loss: 0.4355 - acc: 0.750 - 0s 5ms/sample - loss: 0.3859 - acc: 0.8140 - val_loss: 0.4921 - val_acc: 0.6842\n",
      "3-conv-32-nodes-1-dense-1562734850\n",
      "Train on 43 samples, validate on 19 samples\n",
      "Epoch 1/10\n",
      "43/43 [==============================] - ETA: 0s - loss: 0.6781 - acc: 0.718 - 1s 31ms/sample - loss: 0.6562 - acc: 0.7442 - val_loss: 0.6413 - val_acc: 0.6316\n",
      "Epoch 2/10\n",
      "43/43 [==============================] - ETA: 0s - loss: 0.5506 - acc: 0.781 - 0s 7ms/sample - loss: 0.5787 - acc: 0.7442 - val_loss: 0.6845 - val_acc: 0.6316\n",
      "Epoch 3/10\n",
      "43/43 [==============================] - ETA: 0s - loss: 0.5513 - acc: 0.750 - 0s 6ms/sample - loss: 0.5608 - acc: 0.7442 - val_loss: 0.6740 - val_acc: 0.6316\n",
      "Epoch 4/10\n",
      "43/43 [==============================] - ETA: 0s - loss: 0.5403 - acc: 0.750 - 0s 6ms/sample - loss: 0.5524 - acc: 0.7442 - val_loss: 0.6464 - val_acc: 0.6316\n",
      "Epoch 5/10\n",
      "43/43 [==============================] - ETA: 0s - loss: 0.6391 - acc: 0.656 - 0s 5ms/sample - loss: 0.5632 - acc: 0.7442 - val_loss: 0.6388 - val_acc: 0.6316\n",
      "Epoch 6/10\n",
      "43/43 [==============================] - ETA: 0s - loss: 0.5416 - acc: 0.750 - 0s 6ms/sample - loss: 0.5477 - acc: 0.7442 - val_loss: 0.6528 - val_acc: 0.6316\n",
      "Epoch 7/10\n",
      "43/43 [==============================] - ETA: 0s - loss: 0.5638 - acc: 0.718 - 0s 7ms/sample - loss: 0.5394 - acc: 0.7442 - val_loss: 0.6711 - val_acc: 0.6316\n",
      "Epoch 8/10\n",
      "43/43 [==============================] - ETA: 0s - loss: 0.6109 - acc: 0.687 - 0s 7ms/sample - loss: 0.5425 - acc: 0.7442 - val_loss: 0.6787 - val_acc: 0.6316\n",
      "Epoch 9/10\n",
      "43/43 [==============================] - ETA: 0s - loss: 0.5432 - acc: 0.750 - 0s 5ms/sample - loss: 0.5431 - acc: 0.7442 - val_loss: 0.6677 - val_acc: 0.6316\n",
      "Epoch 10/10\n",
      "43/43 [==============================] - ETA: 0s - loss: 0.5120 - acc: 0.750 - 0s 6ms/sample - loss: 0.5326 - acc: 0.7442 - val_loss: 0.6367 - val_acc: 0.6316\n",
      "1-conv-64-nodes-1-dense-1562734884\n",
      "Train on 43 samples, validate on 19 samples\n",
      "Epoch 1/10\n",
      "43/43 [==============================] - ETA: 0s - loss: 0.6918 - acc: 0.562 - 2s 43ms/sample - loss: 0.5149 - acc: 0.6744 - val_loss: 4.8645 - val_acc: 0.6316\n",
      "Epoch 2/10\n",
      "43/43 [==============================] - ETA: 0s - loss: 4.3503 - acc: 0.687 - 0s 10ms/sample - loss: 3.5504 - acc: 0.7442 - val_loss: 1.7235 - val_acc: 0.6316\n",
      "Epoch 3/10\n",
      "43/43 [==============================] - ETA: 0s - loss: 1.3855 - acc: 0.750 - 0s 10ms/sample - loss: 1.1859 - acc: 0.6977 - val_loss: 1.0801 - val_acc: 0.3684\n",
      "Epoch 4/10\n",
      "43/43 [==============================] - ETA: 0s - loss: 1.1215 - acc: 0.281 - 0s 9ms/sample - loss: 0.9084 - acc: 0.4651 - val_loss: 0.8259 - val_acc: 0.6316\n",
      "Epoch 5/10\n",
      "43/43 [==============================] - ETA: 0s - loss: 0.6872 - acc: 0.718 - 0s 10ms/sample - loss: 0.6782 - acc: 0.7442 - val_loss: 1.0909 - val_acc: 0.6316\n",
      "Epoch 6/10\n",
      "43/43 [==============================] - ETA: 0s - loss: 0.8630 - acc: 0.750 - 0s 10ms/sample - loss: 0.8039 - acc: 0.7442 - val_loss: 0.5999 - val_acc: 0.6316\n",
      "Epoch 7/10\n",
      "43/43 [==============================] - ETA: 0s - loss: 0.4337 - acc: 0.781 - 0s 10ms/sample - loss: 0.3988 - acc: 0.8140 - val_loss: 0.5201 - val_acc: 0.7895\n",
      "Epoch 8/10\n",
      "43/43 [==============================] - ETA: 0s - loss: 0.4016 - acc: 0.843 - 0s 9ms/sample - loss: 0.4137 - acc: 0.8372 - val_loss: 0.4754 - val_acc: 0.7895\n",
      "Epoch 9/10\n",
      "43/43 [==============================] - ETA: 0s - loss: 0.3369 - acc: 0.968 - 0s 9ms/sample - loss: 0.2934 - acc: 0.9767 - val_loss: 0.4921 - val_acc: 0.6842\n",
      "Epoch 10/10\n",
      "43/43 [==============================] - ETA: 0s - loss: 0.3416 - acc: 0.843 - 0s 9ms/sample - loss: 0.3078 - acc: 0.8605 - val_loss: 0.4772 - val_acc: 0.6842\n",
      "2-conv-64-nodes-1-dense-1562734920\n",
      "Train on 43 samples, validate on 19 samples\n",
      "Epoch 1/10\n",
      "43/43 [==============================] - ETA: 0s - loss: 0.6673 - acc: 0.718 - 2s 46ms/sample - loss: 0.6339 - acc: 0.7442 - val_loss: 0.6576 - val_acc: 0.6316\n",
      "Epoch 2/10\n",
      "43/43 [==============================] - ETA: 0s - loss: 0.5863 - acc: 0.718 - 0s 11ms/sample - loss: 0.5720 - acc: 0.7442 - val_loss: 0.6161 - val_acc: 0.6316\n",
      "Epoch 3/10\n",
      "43/43 [==============================] - ETA: 0s - loss: 0.5457 - acc: 0.718 - 0s 11ms/sample - loss: 0.5177 - acc: 0.7442 - val_loss: 0.7081 - val_acc: 0.6316\n",
      "Epoch 4/10\n",
      "43/43 [==============================] - ETA: 0s - loss: 0.4862 - acc: 0.781 - 0s 11ms/sample - loss: 0.5406 - acc: 0.7442 - val_loss: 0.5811 - val_acc: 0.6316\n",
      "Epoch 5/10\n",
      "43/43 [==============================] - ETA: 0s - loss: 0.4771 - acc: 0.750 - 0s 10ms/sample - loss: 0.4829 - acc: 0.7442 - val_loss: 0.5700 - val_acc: 0.6316\n",
      "Epoch 6/10\n",
      "43/43 [==============================] - ETA: 0s - loss: 0.4950 - acc: 0.781 - 1s 12ms/sample - loss: 0.4804 - acc: 0.7907 - val_loss: 0.5405 - val_acc: 0.6316\n",
      "Epoch 7/10\n",
      "43/43 [==============================] - ETA: 0s - loss: 0.4322 - acc: 0.750 - 0s 10ms/sample - loss: 0.4159 - acc: 0.7442 - val_loss: 0.5485 - val_acc: 0.6316\n",
      "Epoch 8/10\n",
      "43/43 [==============================] - ETA: 0s - loss: 0.3408 - acc: 0.781 - 0s 11ms/sample - loss: 0.3830 - acc: 0.7442 - val_loss: 0.4415 - val_acc: 0.7368\n",
      "Epoch 9/10\n"
     ]
    },
    {
     "name": "stdout",
     "output_type": "stream",
     "text": [
      "43/43 [==============================] - ETA: 0s - loss: 0.3122 - acc: 0.906 - 0s 11ms/sample - loss: 0.3162 - acc: 0.9070 - val_loss: 0.4315 - val_acc: 0.7895\n",
      "Epoch 10/10\n",
      "43/43 [==============================] - ETA: 0s - loss: 0.3399 - acc: 0.937 - 1s 13ms/sample - loss: 0.3083 - acc: 0.9535 - val_loss: 0.3809 - val_acc: 0.7368\n",
      "3-conv-64-nodes-1-dense-1562734959\n",
      "Train on 43 samples, validate on 19 samples\n",
      "Epoch 1/10\n",
      "43/43 [==============================] - ETA: 0s - loss: 0.6864 - acc: 0.750 - 2s 40ms/sample - loss: 0.6704 - acc: 0.7442 - val_loss: 0.6672 - val_acc: 0.6316\n",
      "Epoch 2/10\n",
      "43/43 [==============================] - ETA: 0s - loss: 0.4647 - acc: 0.812 - 0s 10ms/sample - loss: 0.6675 - acc: 0.7442 - val_loss: 0.7373 - val_acc: 0.6316\n",
      "Epoch 3/10\n",
      "43/43 [==============================] - ETA: 0s - loss: 0.6256 - acc: 0.718 - 1s 12ms/sample - loss: 0.5849 - acc: 0.7442 - val_loss: 0.6418 - val_acc: 0.6316\n",
      "Epoch 4/10\n",
      "43/43 [==============================] - ETA: 0s - loss: 0.5808 - acc: 0.718 - 0s 10ms/sample - loss: 0.5714 - acc: 0.7442 - val_loss: 0.6424 - val_acc: 0.6316\n",
      "Epoch 5/10\n",
      "43/43 [==============================] - ETA: 0s - loss: 0.5872 - acc: 0.750 - 1s 12ms/sample - loss: 0.5866 - acc: 0.7442 - val_loss: 0.6373 - val_acc: 0.6316\n",
      "Epoch 6/10\n",
      "43/43 [==============================] - ETA: 0s - loss: 0.5759 - acc: 0.750 - 1s 12ms/sample - loss: 0.5766 - acc: 0.7442 - val_loss: 0.6286 - val_acc: 0.6316\n",
      "Epoch 7/10\n",
      "43/43 [==============================] - ETA: 0s - loss: 0.5703 - acc: 0.718 - 1s 12ms/sample - loss: 0.5449 - acc: 0.7442 - val_loss: 0.6442 - val_acc: 0.6316\n",
      "Epoch 8/10\n",
      "43/43 [==============================] - ETA: 0s - loss: 0.5450 - acc: 0.718 - 1s 12ms/sample - loss: 0.5281 - acc: 0.7442 - val_loss: 0.6954 - val_acc: 0.6316\n",
      "Epoch 9/10\n",
      "43/43 [==============================] - ETA: 0s - loss: 0.4909 - acc: 0.781 - 1s 12ms/sample - loss: 0.5461 - acc: 0.7442 - val_loss: 0.6509 - val_acc: 0.6316\n",
      "Epoch 10/10\n",
      "43/43 [==============================] - ETA: 0s - loss: 0.4149 - acc: 0.812 - 1s 13ms/sample - loss: 0.5052 - acc: 0.7442 - val_loss: 0.5961 - val_acc: 0.6316\n",
      "1-conv-128-nodes-1-dense-1562734997\n",
      "Train on 43 samples, validate on 19 samples\n",
      "Epoch 1/10\n",
      "43/43 [==============================] - ETA: 0s - loss: 0.6801 - acc: 0.718 - 2s 53ms/sample - loss: 1.2476 - acc: 0.7442 - val_loss: 5.5733 - val_acc: 0.6316\n",
      "Epoch 2/10\n",
      "43/43 [==============================] - ETA: 0s - loss: 3.8231 - acc: 0.750 - 1s 20ms/sample - loss: 3.8292 - acc: 0.7442 - val_loss: 2.4074 - val_acc: 0.6316\n",
      "Epoch 3/10\n",
      "43/43 [==============================] - ETA: 0s - loss: 1.5754 - acc: 0.781 - 1s 18ms/sample - loss: 1.3366 - acc: 0.7907 - val_loss: 3.0249 - val_acc: 0.3684\n",
      "Epoch 4/10\n",
      "43/43 [==============================] - ETA: 0s - loss: 3.6476 - acc: 0.250 - 1s 18ms/sample - loss: 3.2134 - acc: 0.2558 - val_loss: 0.4559 - val_acc: 0.8421\n",
      "Epoch 5/10\n",
      "43/43 [==============================] - ETA: 0s - loss: 0.3827 - acc: 0.906 - 1s 18ms/sample - loss: 0.4543 - acc: 0.8605 - val_loss: 0.9264 - val_acc: 0.6316\n",
      "Epoch 6/10\n",
      "43/43 [==============================] - ETA: 0s - loss: 0.6805 - acc: 0.750 - 1s 19ms/sample - loss: 0.8194 - acc: 0.7442 - val_loss: 1.0250 - val_acc: 0.6316\n",
      "Epoch 7/10\n",
      "43/43 [==============================] - ETA: 0s - loss: 0.5845 - acc: 0.781 - 1s 20ms/sample - loss: 0.7680 - acc: 0.7442 - val_loss: 0.7059 - val_acc: 0.6316\n",
      "Epoch 8/10\n",
      "43/43 [==============================] - ETA: 0s - loss: 0.4982 - acc: 0.750 - 1s 18ms/sample - loss: 0.4839 - acc: 0.7442 - val_loss: 0.4240 - val_acc: 0.6842\n",
      "Epoch 9/10\n",
      "43/43 [==============================] - ETA: 0s - loss: 0.2601 - acc: 0.875 - 1s 19ms/sample - loss: 0.2562 - acc: 0.8837 - val_loss: 0.3589 - val_acc: 0.9474\n",
      "Epoch 10/10\n",
      "43/43 [==============================] - ETA: 0s - loss: 0.2364 - acc: 0.968 - 1s 21ms/sample - loss: 0.2354 - acc: 0.9767 - val_loss: 0.3579 - val_acc: 0.9474\n",
      "2-conv-128-nodes-1-dense-1562735040\n",
      "Train on 43 samples, validate on 19 samples\n",
      "Epoch 1/10\n",
      "43/43 [==============================] - ETA: 0s - loss: 0.6766 - acc: 0.750 - 3s 59ms/sample - loss: 0.8143 - acc: 0.7442 - val_loss: 0.6524 - val_acc: 0.6316\n",
      "Epoch 2/10\n",
      "43/43 [==============================] - ETA: 0s - loss: 0.5751 - acc: 0.718 - 1s 27ms/sample - loss: 0.6194 - acc: 0.5814 - val_loss: 0.6558 - val_acc: 0.6316\n",
      "Epoch 3/10\n",
      "43/43 [==============================] - ETA: 0s - loss: 0.6273 - acc: 0.750 - 1s 25ms/sample - loss: 0.6101 - acc: 0.7442 - val_loss: 0.6339 - val_acc: 0.6316\n",
      "Epoch 4/10\n",
      "43/43 [==============================] - ETA: 0s - loss: 0.5679 - acc: 0.718 - 1s 25ms/sample - loss: 0.5277 - acc: 0.7442 - val_loss: 0.7420 - val_acc: 0.6316\n",
      "Epoch 5/10\n",
      "43/43 [==============================] - ETA: 0s - loss: 0.5458 - acc: 0.750 - 1s 26ms/sample - loss: 0.5823 - acc: 0.7442 - val_loss: 0.6569 - val_acc: 0.6316\n",
      "Epoch 6/10\n",
      "43/43 [==============================] - ETA: 0s - loss: 0.5356 - acc: 0.750 - 1s 27ms/sample - loss: 0.5283 - acc: 0.7442 - val_loss: 0.6063 - val_acc: 0.6316\n",
      "Epoch 7/10\n",
      "43/43 [==============================] - ETA: 0s - loss: 0.5258 - acc: 0.718 - 1s 27ms/sample - loss: 0.5209 - acc: 0.7442 - val_loss: 0.5990 - val_acc: 0.6316\n",
      "Epoch 8/10\n",
      "43/43 [==============================] - ETA: 0s - loss: 0.4771 - acc: 0.781 - 1s 27ms/sample - loss: 0.5086 - acc: 0.7442 - val_loss: 0.5950 - val_acc: 0.6316\n",
      "Epoch 9/10\n",
      "43/43 [==============================] - ETA: 0s - loss: 0.4750 - acc: 0.718 - 1s 24ms/sample - loss: 0.4750 - acc: 0.7442 - val_loss: 0.5442 - val_acc: 0.6316\n",
      "Epoch 10/10\n",
      "43/43 [==============================] - ETA: 0s - loss: 0.4300 - acc: 0.750 - 1s 27ms/sample - loss: 0.4339 - acc: 0.7442 - val_loss: 0.5060 - val_acc: 0.6316\n",
      "3-conv-128-nodes-1-dense-1562735088\n",
      "Train on 43 samples, validate on 19 samples\n",
      "Epoch 1/10\n",
      "43/43 [==============================] - ETA: 0s - loss: 0.6924 - acc: 0.593 - 3s 71ms/sample - loss: 0.6568 - acc: 0.6279 - val_loss: 0.9463 - val_acc: 0.6316\n",
      "Epoch 2/10\n",
      "43/43 [==============================] - ETA: 0s - loss: 0.5905 - acc: 0.781 - 1s 31ms/sample - loss: 0.6140 - acc: 0.7442 - val_loss: 0.7090 - val_acc: 0.3684\n",
      "Epoch 3/10\n",
      "43/43 [==============================] - ETA: 0s - loss: 0.7169 - acc: 0.281 - 1s 29ms/sample - loss: 0.7095 - acc: 0.4186 - val_loss: 0.6629 - val_acc: 0.6316\n",
      "Epoch 4/10\n",
      "43/43 [==============================] - ETA: 0s - loss: 0.6474 - acc: 0.687 - 1s 30ms/sample - loss: 0.6177 - acc: 0.7442 - val_loss: 0.6413 - val_acc: 0.6316\n",
      "Epoch 5/10\n",
      "43/43 [==============================] - ETA: 0s - loss: 0.5891 - acc: 0.718 - 1s 30ms/sample - loss: 0.5445 - acc: 0.7442 - val_loss: 0.8015 - val_acc: 0.6316\n",
      "Epoch 6/10\n",
      "43/43 [==============================] - ETA: 0s - loss: 0.6231 - acc: 0.750 - 1s 26ms/sample - loss: 0.6220 - acc: 0.7442 - val_loss: 0.7231 - val_acc: 0.6316\n",
      "Epoch 7/10\n",
      "43/43 [==============================] - ETA: 0s - loss: 0.6173 - acc: 0.718 - 1s 22ms/sample - loss: 0.5756 - acc: 0.7442 - val_loss: 0.6409 - val_acc: 0.6316\n",
      "Epoch 8/10\n",
      "43/43 [==============================] - ETA: 0s - loss: 0.5742 - acc: 0.718 - 1s 28ms/sample - loss: 0.5487 - acc: 0.7442 - val_loss: 0.6277 - val_acc: 0.6316\n",
      "Epoch 9/10\n",
      "43/43 [==============================] - ETA: 0s - loss: 0.5717 - acc: 0.718 - 1s 28ms/sample - loss: 0.5474 - acc: 0.7442 - val_loss: 0.6228 - val_acc: 0.6316\n",
      "Epoch 10/10\n",
      "43/43 [==============================] - ETA: 0s - loss: 0.4850 - acc: 0.812 - 1s 30ms/sample - loss: 0.5410 - acc: 0.7442 - val_loss: 0.6266 - val_acc: 0.6316\n",
      "1-conv-32-nodes-2-dense-1562735141\n",
      "Train on 43 samples, validate on 19 samples\n",
      "Epoch 1/10\n",
      "43/43 [==============================] - ETA: 0s - loss: 0.6850 - acc: 0.718 - 2s 43ms/sample - loss: 0.6353 - acc: 0.7442 - val_loss: 0.8050 - val_acc: 0.6316\n",
      "Epoch 2/10\n",
      "43/43 [==============================] - ETA: 0s - loss: 0.7017 - acc: 0.718 - 0s 5ms/sample - loss: 0.6407 - acc: 0.7442 - val_loss: 0.7288 - val_acc: 0.6316\n",
      "Epoch 3/10\n",
      "43/43 [==============================] - ETA: 0s - loss: 0.4840 - acc: 0.781 - 0s 5ms/sample - loss: 0.5504 - acc: 0.7442 - val_loss: 0.5876 - val_acc: 0.6316\n",
      "Epoch 4/10\n",
      "43/43 [==============================] - ETA: 0s - loss: 0.5224 - acc: 0.718 - 0s 4ms/sample - loss: 0.5422 - acc: 0.7674 - val_loss: 0.5825 - val_acc: 0.6842\n"
     ]
    },
    {
     "name": "stdout",
     "output_type": "stream",
     "text": [
      "Epoch 5/10\n",
      "43/43 [==============================] - ETA: 0s - loss: 0.4988 - acc: 0.812 - 0s 5ms/sample - loss: 0.5091 - acc: 0.7674 - val_loss: 0.5829 - val_acc: 0.6316\n",
      "Epoch 6/10\n",
      "43/43 [==============================] - ETA: 0s - loss: 0.4915 - acc: 0.718 - 0s 5ms/sample - loss: 0.4633 - acc: 0.7442 - val_loss: 0.6009 - val_acc: 0.6316\n",
      "Epoch 7/10\n",
      "43/43 [==============================] - ETA: 0s - loss: 0.4658 - acc: 0.718 - 0s 5ms/sample - loss: 0.4623 - acc: 0.7442 - val_loss: 0.6010 - val_acc: 0.6316\n",
      "Epoch 8/10\n",
      "43/43 [==============================] - ETA: 0s - loss: 0.4469 - acc: 0.750 - 0s 5ms/sample - loss: 0.4473 - acc: 0.7442 - val_loss: 0.5607 - val_acc: 0.6316\n",
      "Epoch 9/10\n",
      "43/43 [==============================] - ETA: 0s - loss: 0.3946 - acc: 0.750 - 0s 5ms/sample - loss: 0.4086 - acc: 0.7674 - val_loss: 0.5188 - val_acc: 0.6842\n",
      "Epoch 10/10\n",
      "43/43 [==============================] - ETA: 0s - loss: 0.3940 - acc: 0.812 - 0s 5ms/sample - loss: 0.3797 - acc: 0.8372 - val_loss: 0.4951 - val_acc: 0.6842\n",
      "2-conv-32-nodes-2-dense-1562735183\n",
      "Train on 43 samples, validate on 19 samples\n",
      "Epoch 1/10\n",
      "43/43 [==============================] - ETA: 0s - loss: 0.6863 - acc: 0.812 - 2s 47ms/sample - loss: 0.6854 - acc: 0.7442 - val_loss: 0.6255 - val_acc: 0.6316\n",
      "Epoch 2/10\n",
      "43/43 [==============================] - ETA: 0s - loss: 0.5947 - acc: 0.687 - 0s 8ms/sample - loss: 0.5464 - acc: 0.7442 - val_loss: 0.6565 - val_acc: 0.6316\n",
      "Epoch 3/10\n",
      "43/43 [==============================] - ETA: 0s - loss: 0.4978 - acc: 0.781 - 0s 6ms/sample - loss: 0.5592 - acc: 0.7442 - val_loss: 0.6800 - val_acc: 0.6316\n",
      "Epoch 4/10\n",
      "43/43 [==============================] - ETA: 0s - loss: 0.5526 - acc: 0.750 - 0s 6ms/sample - loss: 0.5443 - acc: 0.7442 - val_loss: 0.6231 - val_acc: 0.6316\n",
      "Epoch 5/10\n",
      "43/43 [==============================] - ETA: 0s - loss: 0.5828 - acc: 0.687 - 0s 6ms/sample - loss: 0.5295 - acc: 0.7442 - val_loss: 0.6030 - val_acc: 0.6316\n",
      "Epoch 6/10\n",
      "43/43 [==============================] - ETA: 0s - loss: 0.4555 - acc: 0.812 - 0s 6ms/sample - loss: 0.5128 - acc: 0.7442 - val_loss: 0.5866 - val_acc: 0.6316\n",
      "Epoch 7/10\n",
      "43/43 [==============================] - ETA: 0s - loss: 0.4738 - acc: 0.750 - 0s 7ms/sample - loss: 0.4918 - acc: 0.7442 - val_loss: 0.5764 - val_acc: 0.6316\n",
      "Epoch 8/10\n",
      "43/43 [==============================] - ETA: 0s - loss: 0.4514 - acc: 0.750 - 0s 6ms/sample - loss: 0.4724 - acc: 0.7442 - val_loss: 0.5679 - val_acc: 0.6316\n",
      "Epoch 9/10\n",
      "43/43 [==============================] - ETA: 0s - loss: 0.5137 - acc: 0.687 - 0s 6ms/sample - loss: 0.4523 - acc: 0.7442 - val_loss: 0.5564 - val_acc: 0.6316\n",
      "Epoch 10/10\n",
      "43/43 [==============================] - ETA: 0s - loss: 0.4329 - acc: 0.750 - 0s 6ms/sample - loss: 0.4234 - acc: 0.7442 - val_loss: 0.5569 - val_acc: 0.6316\n",
      "3-conv-32-nodes-2-dense-1562735229\n",
      "Train on 43 samples, validate on 19 samples\n",
      "Epoch 1/10\n",
      "43/43 [==============================] - ETA: 0s - loss: 0.6981 - acc: 0.250 - 2s 51ms/sample - loss: 0.6955 - acc: 0.3721 - val_loss: 0.6875 - val_acc: 0.6316\n",
      "Epoch 2/10\n",
      "43/43 [==============================] - ETA: 0s - loss: 0.6819 - acc: 0.750 - 0s 7ms/sample - loss: 0.6799 - acc: 0.7442 - val_loss: 0.6768 - val_acc: 0.6316\n",
      "Epoch 3/10\n",
      "43/43 [==============================] - ETA: 0s - loss: 0.6622 - acc: 0.718 - 0s 6ms/sample - loss: 0.6576 - acc: 0.7442 - val_loss: 0.6633 - val_acc: 0.6316\n",
      "Epoch 4/10\n",
      "43/43 [==============================] - ETA: 0s - loss: 0.6451 - acc: 0.687 - 0s 7ms/sample - loss: 0.6235 - acc: 0.7442 - val_loss: 0.6502 - val_acc: 0.6316\n",
      "Epoch 5/10\n",
      "43/43 [==============================] - ETA: 0s - loss: 0.5878 - acc: 0.750 - 0s 6ms/sample - loss: 0.5895 - acc: 0.7442 - val_loss: 0.6554 - val_acc: 0.6316\n",
      "Epoch 6/10\n",
      "43/43 [==============================] - ETA: 0s - loss: 0.5775 - acc: 0.718 - 0s 6ms/sample - loss: 0.5550 - acc: 0.7442 - val_loss: 0.7120 - val_acc: 0.6316\n",
      "Epoch 7/10\n",
      "43/43 [==============================] - ETA: 0s - loss: 0.6131 - acc: 0.718 - 0s 8ms/sample - loss: 0.5679 - acc: 0.7442 - val_loss: 0.7522 - val_acc: 0.6316\n",
      "Epoch 8/10\n",
      "43/43 [==============================] - ETA: 0s - loss: 0.5401 - acc: 0.781 - 0s 6ms/sample - loss: 0.5872 - acc: 0.7442 - val_loss: 0.7238 - val_acc: 0.6316\n",
      "Epoch 9/10\n",
      "43/43 [==============================] - ETA: 0s - loss: 0.6157 - acc: 0.718 - 0s 7ms/sample - loss: 0.5731 - acc: 0.7442 - val_loss: 0.6799 - val_acc: 0.6316\n",
      "Epoch 10/10\n",
      "43/43 [==============================] - ETA: 0s - loss: 0.5843 - acc: 0.718 - 0s 7ms/sample - loss: 0.5564 - acc: 0.7442 - val_loss: 0.6606 - val_acc: 0.6316\n",
      "1-conv-64-nodes-2-dense-1562735276\n",
      "Train on 43 samples, validate on 19 samples\n",
      "Epoch 1/10\n",
      "43/43 [==============================] - ETA: 0s - loss: 0.6693 - acc: 0.656 - 2s 50ms/sample - loss: 0.4996 - acc: 0.7442 - val_loss: 3.2073 - val_acc: 0.6316\n",
      "Epoch 2/10\n",
      "43/43 [==============================] - ETA: 0s - loss: 2.3729 - acc: 0.750 - 0s 9ms/sample - loss: 2.1541 - acc: 0.7442 - val_loss: 0.5904 - val_acc: 0.6316\n",
      "Epoch 3/10\n",
      "43/43 [==============================] - ETA: 0s - loss: 0.5074 - acc: 0.750 - 0s 10ms/sample - loss: 0.7294 - acc: 0.6279 - val_loss: 0.7789 - val_acc: 0.3684\n",
      "Epoch 4/10\n",
      "43/43 [==============================] - ETA: 0s - loss: 0.7954 - acc: 0.250 - 1s 14ms/sample - loss: 0.7187 - acc: 0.3721 - val_loss: 0.6880 - val_acc: 0.6316\n",
      "Epoch 5/10\n",
      "43/43 [==============================] - ETA: 0s - loss: 0.4057 - acc: 0.843 - 0s 9ms/sample - loss: 0.5913 - acc: 0.7442 - val_loss: 0.7565 - val_acc: 0.6316\n",
      "Epoch 6/10\n",
      "43/43 [==============================] - ETA: 0s - loss: 0.6881 - acc: 0.687 - 0s 9ms/sample - loss: 0.5684 - acc: 0.7442 - val_loss: 0.5658 - val_acc: 0.6316\n",
      "Epoch 7/10\n",
      "43/43 [==============================] - ETA: 0s - loss: 0.4434 - acc: 0.750 - 0s 9ms/sample - loss: 0.4144 - acc: 0.7674 - val_loss: 0.5110 - val_acc: 0.6842\n",
      "Epoch 8/10\n",
      "43/43 [==============================] - ETA: 0s - loss: 0.4046 - acc: 0.843 - 0s 9ms/sample - loss: 0.3825 - acc: 0.8837 - val_loss: 0.4856 - val_acc: 0.6842\n",
      "Epoch 9/10\n",
      "43/43 [==============================] - ETA: 0s - loss: 0.3030 - acc: 0.937 - 0s 9ms/sample - loss: 0.3567 - acc: 0.8837 - val_loss: 0.4666 - val_acc: 0.6842\n",
      "Epoch 10/10\n",
      "43/43 [==============================] - ETA: 0s - loss: 0.3396 - acc: 0.875 - 0s 9ms/sample - loss: 0.3131 - acc: 0.8837 - val_loss: 0.4453 - val_acc: 0.6842\n",
      "2-conv-64-nodes-2-dense-1562735327\n",
      "Train on 43 samples, validate on 19 samples\n",
      "Epoch 1/10\n",
      "43/43 [==============================] - ETA: 0s - loss: 0.7014 - acc: 0.281 - 2s 43ms/sample - loss: 0.6581 - acc: 0.4186 - val_loss: 0.7506 - val_acc: 0.6316\n",
      "Epoch 2/10\n",
      "43/43 [==============================] - ETA: 0s - loss: 0.5986 - acc: 0.750 - 0s 9ms/sample - loss: 0.5916 - acc: 0.7442 - val_loss: 0.6390 - val_acc: 0.6316\n",
      "Epoch 3/10\n",
      "43/43 [==============================] - ETA: 0s - loss: 0.5363 - acc: 0.750 - 0s 10ms/sample - loss: 0.5408 - acc: 0.7442 - val_loss: 0.6173 - val_acc: 0.6316\n",
      "Epoch 4/10\n",
      "43/43 [==============================] - ETA: 0s - loss: 0.4920 - acc: 0.812 - 0s 10ms/sample - loss: 0.5401 - acc: 0.7442 - val_loss: 0.6122 - val_acc: 0.6316\n",
      "Epoch 5/10\n",
      "43/43 [==============================] - ETA: 0s - loss: 0.5081 - acc: 0.750 - 0s 10ms/sample - loss: 0.5055 - acc: 0.7442 - val_loss: 0.5940 - val_acc: 0.6316\n",
      "Epoch 6/10\n",
      "43/43 [==============================] - ETA: 0s - loss: 0.4929 - acc: 0.750 - 0s 9ms/sample - loss: 0.4784 - acc: 0.7442 - val_loss: 0.5558 - val_acc: 0.6316\n",
      "Epoch 7/10\n",
      "43/43 [==============================] - ETA: 0s - loss: 0.4169 - acc: 0.750 - 0s 10ms/sample - loss: 0.4385 - acc: 0.7674 - val_loss: 0.5130 - val_acc: 0.6316\n",
      "Epoch 8/10\n",
      "43/43 [==============================] - ETA: 0s - loss: 0.3618 - acc: 0.906 - 0s 9ms/sample - loss: 0.3952 - acc: 0.8605 - val_loss: 0.5035 - val_acc: 0.6842\n",
      "Epoch 9/10\n",
      "43/43 [==============================] - ETA: 0s - loss: 0.3488 - acc: 0.906 - 0s 9ms/sample - loss: 0.3697 - acc: 0.9070 - val_loss: 0.4809 - val_acc: 0.7368\n",
      "Epoch 10/10\n",
      "43/43 [==============================] - ETA: 0s - loss: 0.2946 - acc: 0.906 - 0s 10ms/sample - loss: 0.3466 - acc: 0.8372 - val_loss: 0.4569 - val_acc: 0.7895\n",
      "3-conv-64-nodes-2-dense-1562735374\n"
     ]
    },
    {
     "name": "stdout",
     "output_type": "stream",
     "text": [
      "Train on 43 samples, validate on 19 samples\n",
      "Epoch 1/10\n",
      "43/43 [==============================] - ETA: 0s - loss: 0.6850 - acc: 0.656 - 2s 40ms/sample - loss: 0.6504 - acc: 0.7442 - val_loss: 0.6513 - val_acc: 0.6316\n",
      "Epoch 2/10\n",
      "43/43 [==============================] - ETA: 0s - loss: 0.5832 - acc: 0.718 - 0s 8ms/sample - loss: 0.5511 - acc: 0.7442 - val_loss: 0.8853 - val_acc: 0.6316\n",
      "Epoch 3/10\n",
      "43/43 [==============================] - ETA: 0s - loss: 0.7264 - acc: 0.718 - 0s 8ms/sample - loss: 0.6646 - acc: 0.7442 - val_loss: 0.6972 - val_acc: 0.6316\n",
      "Epoch 4/10\n",
      "43/43 [==============================] - ETA: 0s - loss: 0.5981 - acc: 0.718 - 0s 8ms/sample - loss: 0.5652 - acc: 0.7442 - val_loss: 0.6399 - val_acc: 0.6316\n",
      "Epoch 5/10\n",
      "43/43 [==============================] - ETA: 0s - loss: 0.5768 - acc: 0.718 - 0s 8ms/sample - loss: 0.5564 - acc: 0.7442 - val_loss: 0.6319 - val_acc: 0.6316\n",
      "Epoch 6/10\n",
      "43/43 [==============================] - ETA: 0s - loss: 0.5079 - acc: 0.812 - 0s 8ms/sample - loss: 0.5548 - acc: 0.7442 - val_loss: 0.6306 - val_acc: 0.6316\n",
      "Epoch 7/10\n",
      "43/43 [==============================] - ETA: 0s - loss: 0.5675 - acc: 0.718 - 0s 9ms/sample - loss: 0.5377 - acc: 0.7442 - val_loss: 0.6313 - val_acc: 0.6316\n",
      "Epoch 8/10\n",
      "43/43 [==============================] - ETA: 0s - loss: 0.5847 - acc: 0.687 - 0s 8ms/sample - loss: 0.5236 - acc: 0.7442 - val_loss: 0.6543 - val_acc: 0.6316\n",
      "Epoch 9/10\n",
      "43/43 [==============================] - ETA: 0s - loss: 0.4775 - acc: 0.781 - 0s 8ms/sample - loss: 0.5351 - acc: 0.7442 - val_loss: 0.6636 - val_acc: 0.6316\n",
      "Epoch 10/10\n",
      "43/43 [==============================] - ETA: 0s - loss: 0.4297 - acc: 0.812 - 0s 8ms/sample - loss: 0.5174 - acc: 0.7442 - val_loss: 0.6064 - val_acc: 0.6316\n",
      "1-conv-128-nodes-2-dense-1562735408\n",
      "Train on 43 samples, validate on 19 samples\n",
      "Epoch 1/10\n",
      "43/43 [==============================] - ETA: 0s - loss: 0.6756 - acc: 0.781 - 2s 44ms/sample - loss: 1.4110 - acc: 0.7442 - val_loss: 1.3726 - val_acc: 0.6316\n",
      "Epoch 2/10\n",
      "43/43 [==============================] - ETA: 0s - loss: 1.2774 - acc: 0.718 - 1s 19ms/sample - loss: 1.2356 - acc: 0.5814 - val_loss: 0.5535 - val_acc: 0.6316\n",
      "Epoch 3/10\n",
      "43/43 [==============================] - ETA: 0s - loss: 0.4987 - acc: 0.750 - 1s 20ms/sample - loss: 0.4620 - acc: 0.7674 - val_loss: 0.6890 - val_acc: 0.6316\n",
      "Epoch 4/10\n",
      "43/43 [==============================] - ETA: 0s - loss: 0.4212 - acc: 0.812 - 1s 21ms/sample - loss: 0.5499 - acc: 0.7442 - val_loss: 0.5116 - val_acc: 0.6316\n",
      "Epoch 5/10\n",
      "43/43 [==============================] - ETA: 0s - loss: 0.4261 - acc: 0.781 - 1s 17ms/sample - loss: 0.4275 - acc: 0.8140 - val_loss: 0.5359 - val_acc: 0.8421\n",
      "Epoch 6/10\n",
      "43/43 [==============================] - ETA: 0s - loss: 0.4637 - acc: 0.937 - 1s 17ms/sample - loss: 0.4538 - acc: 0.9302 - val_loss: 0.4226 - val_acc: 0.8421\n",
      "Epoch 7/10\n",
      "43/43 [==============================] - ETA: 0s - loss: 0.3173 - acc: 0.875 - 1s 17ms/sample - loss: 0.3384 - acc: 0.8837 - val_loss: 0.4589 - val_acc: 0.6842\n",
      "Epoch 8/10\n",
      "43/43 [==============================] - ETA: 0s - loss: 0.3933 - acc: 0.812 - 1s 17ms/sample - loss: 0.3213 - acc: 0.8605 - val_loss: 0.3995 - val_acc: 0.6842\n",
      "Epoch 9/10\n",
      "43/43 [==============================] - ETA: 0s - loss: 0.2024 - acc: 0.937 - 1s 19ms/sample - loss: 0.2592 - acc: 0.8837 - val_loss: 0.3546 - val_acc: 0.8421\n",
      "Epoch 10/10\n",
      "43/43 [==============================] - ETA: 0s - loss: 0.2325 - acc: 0.937 - 1s 33ms/sample - loss: 0.2498 - acc: 0.9302 - val_loss: 0.3504 - val_acc: 0.8947\n",
      "2-conv-128-nodes-2-dense-1562735446\n",
      "Train on 43 samples, validate on 19 samples\n",
      "Epoch 1/10\n",
      "43/43 [==============================] - ETA: 0s - loss: 0.6752 - acc: 0.718 - 4s 101ms/sample - loss: 0.6891 - acc: 0.7442 - val_loss: 0.6425 - val_acc: 0.6316\n",
      "Epoch 2/10\n",
      "43/43 [==============================] - ETA: 0s - loss: 0.5313 - acc: 0.750 - 1s 29ms/sample - loss: 0.5507 - acc: 0.7442 - val_loss: 0.6340 - val_acc: 0.6316\n",
      "Epoch 3/10\n",
      "43/43 [==============================] - ETA: 0s - loss: 0.5688 - acc: 0.750 - 1s 28ms/sample - loss: 0.5706 - acc: 0.7442 - val_loss: 0.6410 - val_acc: 0.6316\n",
      "Epoch 4/10\n",
      "43/43 [==============================] - ETA: 0s - loss: 0.5071 - acc: 0.781 - 1s 24ms/sample - loss: 0.5455 - acc: 0.7442 - val_loss: 0.6258 - val_acc: 0.6316\n",
      "Epoch 5/10\n",
      "43/43 [==============================] - ETA: 0s - loss: 0.5511 - acc: 0.718 - 1s 24ms/sample - loss: 0.5273 - acc: 0.7442 - val_loss: 0.5991 - val_acc: 0.6316\n",
      "Epoch 6/10\n",
      "43/43 [==============================] - ETA: 0s - loss: 0.4087 - acc: 0.843 - 1s 21ms/sample - loss: 0.5447 - acc: 0.7442 - val_loss: 0.5809 - val_acc: 0.6316\n",
      "Epoch 7/10\n",
      "43/43 [==============================] - ETA: 0s - loss: 0.4420 - acc: 0.781 - 1s 27ms/sample - loss: 0.4744 - acc: 0.7442 - val_loss: 0.5669 - val_acc: 0.6316\n",
      "Epoch 8/10\n",
      "43/43 [==============================] - ETA: 0s - loss: 0.5189 - acc: 0.687 - 1s 22ms/sample - loss: 0.4829 - acc: 0.7442 - val_loss: 0.5312 - val_acc: 0.6316\n",
      "Epoch 9/10\n",
      "43/43 [==============================] - ETA: 0s - loss: 0.4159 - acc: 0.750 - 1s 20ms/sample - loss: 0.4142 - acc: 0.7442 - val_loss: 0.5556 - val_acc: 0.6316\n",
      "Epoch 10/10\n",
      "43/43 [==============================] - ETA: 0s - loss: 0.4415 - acc: 0.718 - 1s 21ms/sample - loss: 0.3910 - acc: 0.7674 - val_loss: 0.4583 - val_acc: 0.6316\n",
      "3-conv-128-nodes-2-dense-1562735492\n",
      "Train on 43 samples, validate on 19 samples\n",
      "Epoch 1/10\n",
      "43/43 [==============================] - ETA: 0s - loss: 0.6884 - acc: 0.718 - 3s 76ms/sample - loss: 0.6439 - acc: 0.7442 - val_loss: 1.0177 - val_acc: 0.6316\n",
      "Epoch 2/10\n",
      "43/43 [==============================] - ETA: 0s - loss: 0.7324 - acc: 0.750 - 1s 19ms/sample - loss: 0.7086 - acc: 0.7442 - val_loss: 0.6460 - val_acc: 0.6316\n",
      "Epoch 3/10\n",
      "43/43 [==============================] - ETA: 0s - loss: 0.5542 - acc: 0.781 - 1s 20ms/sample - loss: 0.5807 - acc: 0.7442 - val_loss: 0.6588 - val_acc: 0.6316\n",
      "Epoch 4/10\n",
      "43/43 [==============================] - ETA: 0s - loss: 0.6213 - acc: 0.750 - 1s 20ms/sample - loss: 0.6202 - acc: 0.7442 - val_loss: 0.6480 - val_acc: 0.6316\n",
      "Epoch 5/10\n",
      "43/43 [==============================] - ETA: 0s - loss: 0.6067 - acc: 0.718 - 1s 18ms/sample - loss: 0.5890 - acc: 0.7442 - val_loss: 0.6452 - val_acc: 0.6316\n",
      "Epoch 6/10\n",
      "43/43 [==============================] - ETA: 0s - loss: 0.5291 - acc: 0.781 - 1s 19ms/sample - loss: 0.5600 - acc: 0.7442 - val_loss: 0.6963 - val_acc: 0.6316\n",
      "Epoch 7/10\n",
      "43/43 [==============================] - ETA: 0s - loss: 0.6416 - acc: 0.687 - 1s 20ms/sample - loss: 0.5612 - acc: 0.7442 - val_loss: 0.6835 - val_acc: 0.6316\n",
      "Epoch 8/10\n",
      "43/43 [==============================] - ETA: 0s - loss: 0.5779 - acc: 0.718 - 1s 20ms/sample - loss: 0.5479 - acc: 0.7442 - val_loss: 0.6655 - val_acc: 0.6316\n",
      "Epoch 9/10\n",
      "43/43 [==============================] - ETA: 0s - loss: 0.5700 - acc: 0.718 - 1s 19ms/sample - loss: 0.5371 - acc: 0.7442 - val_loss: 0.6295 - val_acc: 0.6316\n",
      "Epoch 10/10\n",
      "43/43 [==============================] - ETA: 0s - loss: 0.5537 - acc: 0.718 - 1s 21ms/sample - loss: 0.5192 - acc: 0.7442 - val_loss: 0.6151 - val_acc: 0.6316\n"
     ]
    }
   ],
   "source": [
    "from tensorflow.keras.models import Sequential\n",
    "from tensorflow.keras.layers import Dense, Dropout, Activation, Flatten\n",
    "from tensorflow.keras.layers import Conv2D, MaxPooling2D\n",
    "# more info on callbakcs: https://keras.io/callbacks/ model saver is cool too.\n",
    "from tensorflow.keras.callbacks import TensorBoard\n",
    "import pickle\n",
    "import time\n",
    "\n",
    "pickle_in = open(\"X.pickle\",\"rb\")\n",
    "X = pickle.load(pickle_in)\n",
    "\n",
    "pickle_in = open(\"y.pickle\",\"rb\")\n",
    "y = pickle.load(pickle_in)\n",
    "\n",
    "X = X/255.0\n",
    "\n",
    "dense_layers = [0, 1, 2]\n",
    "layer_sizes = [32, 64, 128]\n",
    "conv_layers = [1, 2, 3]\n",
    "\n",
    "for dense_layer in dense_layers:\n",
    "    for layer_size in layer_sizes:\n",
    "        for conv_layer in conv_layers:\n",
    "            NAME = \"{}-conv-{}-nodes-{}-dense-{}\".format(conv_layer, layer_size, dense_layer, int(time.time()))\n",
    "            print(NAME)\n",
    "\n",
    "            model = Sequential()\n",
    "\n",
    "            model.add(Conv2D(layer_size, (3, 3), input_shape=X.shape[1:]))\n",
    "            model.add(Activation('relu'))\n",
    "            model.add(MaxPooling2D(pool_size=(2, 2)))\n",
    "\n",
    "            for l in range(conv_layer-1):\n",
    "                model.add(Conv2D(layer_size, (3, 3)))\n",
    "                model.add(Activation('relu'))\n",
    "                model.add(MaxPooling2D(pool_size=(2, 2)))\n",
    "\n",
    "            model.add(Flatten())\n",
    "\n",
    "            for _ in range(dense_layer):\n",
    "                model.add(Dense(layer_size))\n",
    "                model.add(Activation('relu'))\n",
    "\n",
    "            model.add(Dense(1))\n",
    "            model.add(Activation('sigmoid'))\n",
    "\n",
    "            tensorboard = TensorBoard(log_dir=\"logs/{}\".format(NAME))\n",
    "\n",
    "            model.compile(loss='binary_crossentropy',\n",
    "                          optimizer='adam',\n",
    "                          metrics=['accuracy'],\n",
    "                          )\n",
    "\n",
    "            model.fit(X, y,\n",
    "                      batch_size=32,\n",
    "                      epochs=10,\n",
    "                      validation_split=0.3,\n",
    "                      callbacks=[tensorboard])"
   ]
  },
  {
   "cell_type": "code",
   "execution_count": null,
   "metadata": {},
   "outputs": [],
   "source": []
  }
 ],
 "metadata": {
  "kernelspec": {
   "display_name": "Python 3",
   "language": "python",
   "name": "python3"
  },
  "language_info": {
   "codemirror_mode": {
    "name": "ipython",
    "version": 3
   },
   "file_extension": ".py",
   "mimetype": "text/x-python",
   "name": "python",
   "nbconvert_exporter": "python",
   "pygments_lexer": "ipython3",
   "version": "3.7.3"
  }
 },
 "nbformat": 4,
 "nbformat_minor": 2
}
